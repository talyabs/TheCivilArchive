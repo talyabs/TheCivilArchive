{
 "cells": [
  {
   "cell_type": "code",
   "execution_count": 1,
   "id": "07d719c3-ef09-442f-ba70-ba385147ec01",
   "metadata": {},
   "outputs": [
    {
     "name": "stderr",
     "output_type": "stream",
     "text": [
      "/home/mao/.local/lib/python3.8/site-packages/tqdm/auto.py:21: TqdmWarning: IProgress not found. Please update jupyter and ipywidgets. See https://ipywidgets.readthedocs.io/en/stable/user_install.html\n",
      "  from .autonotebook import tqdm as notebook_tqdm\n",
      "2024-08-29 16:28:58.037971: I tensorflow/core/util/port.cc:110] oneDNN custom operations are on. You may see slightly different numerical results due to floating-point round-off errors from different computation orders. To turn them off, set the environment variable `TF_ENABLE_ONEDNN_OPTS=0`.\n",
      "2024-08-29 16:28:58.039066: I tensorflow/tsl/cuda/cudart_stub.cc:28] Could not find cuda drivers on your machine, GPU will not be used.\n",
      "2024-08-29 16:28:58.060947: I tensorflow/core/platform/cpu_feature_guard.cc:182] This TensorFlow binary is optimized to use available CPU instructions in performance-critical operations.\n",
      "To enable the following instructions: AVX2 AVX_VNNI FMA, in other operations, rebuild TensorFlow with the appropriate compiler flags.\n",
      "2024-08-29 16:28:58.407661: W tensorflow/compiler/tf2tensorrt/utils/py_utils.cc:38] TF-TRT Warning: Could not find TensorRT\n"
     ]
    }
   ],
   "source": [
    "from transformers import pipeline\n",
    "import pandas as pd\n"
   ]
  },
  {
   "cell_type": "code",
   "execution_count": 2,
   "id": "77708738-a95c-4d35-ab15-5ffddaf067bb",
   "metadata": {},
   "outputs": [
    {
     "name": "stderr",
     "output_type": "stream",
     "text": [
      "Downloading: 100%|██████████████████████████████████████████████████████████████████| 838/838 [00:00<00:00, 1.58MB/s]\n",
      "2024-08-29 16:29:06.801899: I tensorflow/compiler/xla/stream_executor/cuda/cuda_gpu_executor.cc:995] successful NUMA node read from SysFS had negative value (-1), but there must be at least one NUMA node, so returning NUMA node zero. See more at https://github.com/torvalds/linux/blob/v6.0/Documentation/ABI/testing/sysfs-bus-pci#L344-L355\n",
      "2024-08-29 16:29:06.811151: W tensorflow/core/common_runtime/gpu/gpu_device.cc:1960] Cannot dlopen some GPU libraries. Please make sure the missing libraries mentioned above are installed properly if you would like to use GPU. Follow the guide at https://www.tensorflow.org/install/gpu for how to download and setup the required libraries for your platform.\n",
      "Skipping registering GPU devices...\n",
      "Downloading: 100%|████████████████████████████████████████████████████████████████| 415M/415M [00:06<00:00, 65.9MB/s]\n",
      "Downloading: 100%|████████████████████████████████████████████████████████████████| 292k/292k [00:00<00:00, 2.28MB/s]\n",
      "Asking to truncate to max_length but no maximum length is provided and the model has no predefined maximum length. Default to no truncation.\n"
     ]
    },
    {
     "data": {
      "text/plain": [
       "[{'entity': 'B_PERS',\n",
       "  'score': 0.99199486,\n",
       "  'index': 1,\n",
       "  'word': 'דויד',\n",
       "  'start': 0,\n",
       "  'end': 4},\n",
       " {'entity': 'B_ORG',\n",
       "  'score': 0.44042206,\n",
       "  'index': 3,\n",
       "  'word': 'באוניברסיטה',\n",
       "  'start': 10,\n",
       "  'end': 21},\n",
       " {'entity': 'B_ORG',\n",
       "  'score': 0.53410697,\n",
       "  'index': 4,\n",
       "  'word': 'העברית',\n",
       "  'start': 22,\n",
       "  'end': 28},\n",
       " {'entity': 'B_LOC',\n",
       "  'score': 0.987135,\n",
       "  'index': 5,\n",
       "  'word': 'שבי',\n",
       "  'start': 29,\n",
       "  'end': 32},\n",
       " {'entity': 'B_LOC',\n",
       "  'score': 0.9935999,\n",
       "  'index': 6,\n",
       "  'word': '##רוש',\n",
       "  'start': 32,\n",
       "  'end': 35},\n",
       " {'entity': 'B_LOC',\n",
       "  'score': 0.99371594,\n",
       "  'index': 7,\n",
       "  'word': '##לים',\n",
       "  'start': 35,\n",
       "  'end': 38}]"
      ]
     },
     "execution_count": 2,
     "metadata": {},
     "output_type": "execute_result"
    }
   ],
   "source": [
    "from transformers import pipeline\n",
    "\n",
    "# how to use?\n",
    "NER = pipeline(\n",
    "    \"token-classification\",\n",
    "    model=\"avichr/heBERT_NER\",\n",
    "    tokenizer=\"avichr/heBERT_NER\",\n",
    ")\n",
    "NER('דויד לומד באוניברסיטה העברית שבירושלים')"
   ]
  },
  {
   "cell_type": "code",
   "execution_count": 5,
   "id": "3d6899ad-c467-47cd-bf6d-7258837859c9",
   "metadata": {},
   "outputs": [],
   "source": [
    "text = \"\"\"בבוקר שבת התעוררתי בביתי לקול האזעקות שנשמעו בתל אביב ולקולות היירוטים של\n",
    "כיפת ברזל. כמו כל הורה, אני מניח, התקשרתי מיד לבני הבכור, אמיר בן ה–\n",
    "23 , כדי לבדוק מה שלומו. הוא היה במסיבה הארורה הזאת.\n",
    "\"\"\""
   ]
  },
  {
   "cell_type": "code",
   "execution_count": 6,
   "id": "40b8d643-ef96-405c-94c3-0af3a2f6413f",
   "metadata": {},
   "outputs": [
    {
     "data": {
      "text/plain": [
       "[{'entity': 'B_DATE',\n",
       "  'score': 0.70286345,\n",
       "  'index': 2,\n",
       "  'word': 'שבת',\n",
       "  'start': 6,\n",
       "  'end': 9},\n",
       " {'entity': 'B_LOC',\n",
       "  'score': 0.6943088,\n",
       "  'index': 13,\n",
       "  'word': 'בתל',\n",
       "  'start': 45,\n",
       "  'end': 48},\n",
       " {'entity': 'B_LOC',\n",
       "  'score': 0.66928726,\n",
       "  'index': 14,\n",
       "  'word': 'אביב',\n",
       "  'start': 49,\n",
       "  'end': 53},\n",
       " {'entity': 'B_ORG',\n",
       "  'score': 0.5212971,\n",
       "  'index': 22,\n",
       "  'word': 'ברזל',\n",
       "  'start': 79,\n",
       "  'end': 83},\n",
       " {'entity': 'B_PERS',\n",
       "  'score': 0.97461176,\n",
       "  'index': 37,\n",
       "  'word': 'אמיר',\n",
       "  'start': 132,\n",
       "  'end': 136}]"
      ]
     },
     "execution_count": 6,
     "metadata": {},
     "output_type": "execute_result"
    }
   ],
   "source": [
    "NER(text)"
   ]
  },
  {
   "cell_type": "markdown",
   "id": "798e3960-9016-4130-b60d-e790d7b36821",
   "metadata": {},
   "source": [
    "- pip install numpy==1.23.4\n",
    "- pip install protobuf==3.20\n",
    "- pip install google-ads"
   ]
  },
  {
   "cell_type": "code",
   "execution_count": 9,
   "id": "a1d97829-d107-46fd-a6ba-1a311bdc9952",
   "metadata": {},
   "outputs": [],
   "source": [
    "#! pip install torch torchvision torchaudio\n"
   ]
  },
  {
   "cell_type": "code",
   "execution_count": 6,
   "id": "9a0c79f4-54ca-4799-91ff-0129d176e98a",
   "metadata": {},
   "outputs": [],
   "source": [
    "# ! pip install -U git+https://github.com/huggingface/transformers.git\n",
    "# ! pip install -U git+https://github.com/huggingface/accelerate.git"
   ]
  },
  {
   "cell_type": "code",
   "execution_count": 11,
   "id": "55b782ec-8fc9-4856-89eb-f737dd99a6cd",
   "metadata": {},
   "outputs": [],
   "source": [
    "# ! pip install tensorflow\n"
   ]
  },
  {
   "cell_type": "markdown",
   "id": "a9f6dd49-f66d-4b25-a219-1adf02902fe3",
   "metadata": {},
   "source": [
    "pip install transformers==2.5.0\n",
    "\n",
    "pip install spacy-transformers==0.6.0\n",
    "\n"
   ]
  },
  {
   "cell_type": "code",
   "execution_count": 7,
   "id": "e207e0b5-7b6d-410f-a5a2-d6543c623273",
   "metadata": {},
   "outputs": [],
   "source": [
    "# ! pip install -U transformers"
   ]
  },
  {
   "cell_type": "code",
   "execution_count": null,
   "id": "57ca7436-837f-467d-983c-acc1eea762d1",
   "metadata": {},
   "outputs": [],
   "source": [
    "# how to use?\n",
    "NER = pipeline(\n",
    "    \"token-classification\",\n",
    "    model=\"avichr/heBERT_NER\",\n",
    "    tokenizer=\"avichr/heBERT_NER\",\n",
    ")\n",
    "NER('דויד לומד באוניברסיטה העברית שבירושלים')\n"
   ]
  },
  {
   "cell_type": "markdown",
   "id": "dc400b37-3016-4c03-a778-e95419fe8172",
   "metadata": {},
   "source": [
    "### Entities:\n",
    "#### Pepole:\n",
    "- Author\n",
    "- Contributer\n",
    "- Pepole that are mentioned in the testimony\n",
    "<br> --> if possible add id per entity\n",
    "#### Places:\n",
    "- Places\n",
    "<br> --> Make sure same name can be different locations: Reim Kibbuz, Reim Base, Reim Festival\n",
    "#### Organizations\n",
    "- Organizations\n",
    "אחים לנשק \n",
    "עיריית שדרות\n",
    "צוות יורם (קבוצה שעזרה) \n",
    "צה״ל \n",
    "משטרה \n",
    "\n"
   ]
  },
  {
   "cell_type": "code",
   "execution_count": 6,
   "id": "fd28ccff-e3b9-4821-81dc-88dfa2f3bc5f",
   "metadata": {},
   "outputs": [],
   "source": [
    "df = pd.read_excel(\"710 archive for Omeka (1).xlsx\")"
   ]
  },
  {
   "cell_type": "code",
   "execution_count": 31,
   "id": "d0758e40-a925-47fa-9a29-5ac0bd4d4af0",
   "metadata": {},
   "outputs": [],
   "source": [
    "df = pd.read_csv('data_archive - main.csv', encoding='utf-8')\n",
    "pd.set_option('display.unicode.east_asian_width', True)\n"
   ]
  },
  {
   "cell_type": "code",
   "execution_count": null,
   "id": "51f4098d-d5f2-41ef-bb07-6ce6705ee8f6",
   "metadata": {},
   "outputs": [],
   "source": [
    "df"
   ]
  },
  {
   "cell_type": "code",
   "execution_count": 33,
   "id": "f3f9e3cc-a0d9-4687-8ef3-349dc3993b09",
   "metadata": {},
   "outputs": [],
   "source": [
    "df.drop('Unnamed: 33', axis=1, inplace=True)"
   ]
  },
  {
   "cell_type": "code",
   "execution_count": 34,
   "id": "dfb58544-d23b-4b03-83c0-1a67a277fce0",
   "metadata": {},
   "outputs": [
    {
     "data": {
      "text/plain": [
       "Index(['סימול\\n(file name)', 'Omeka ID', 'Title', 'Short title',\n",
       "       'Record Resource (RiC-E02)', 'Date [RiC-E19]',\n",
       "       'Time Frame [DateSet RiC-E21]', 'Description [RiC-A16]',\n",
       "       'Agent - RiC-E08\\nCreator (Person or organization)',\n",
       "       'Contributor (Person or organization)', 'person mentioned ',\n",
       "       'Place  mentioned [RiC-A11] ', 'Event Type [RiC- A18]',\n",
       "       'Form Type [RiC-A17]', 'Content Type [RiC-A10]',\n",
       "       'Representation Type RiC-A37', 'Language [RiC-A25]',\n",
       "       'Publisher/platform [RiC-E11]', 'item mentioned in item',\n",
       "       'item is response to item', 'item is part of item', 'Source',\n",
       "       'קישור לאתר / ערוץ (URL)', 'קישור למקור (URL) / Identifier',\n",
       "       'קישור לקובץ מקור', 'תוכן העדות בכתב (העתק או תמלול)', 'מילות מפתח',\n",
       "       'Rights', 'חותמת זמן', 'מפנה / מפקיד', 'גרסת טופס', 'אוסף', 'קוטלג '],\n",
       "      dtype='object')"
      ]
     },
     "execution_count": 34,
     "metadata": {},
     "output_type": "execute_result"
    }
   ],
   "source": [
    "df.columns"
   ]
  },
  {
   "cell_type": "code",
   "execution_count": 63,
   "id": "fe5db341-81ea-4dd6-a005-52dc1a51dad5",
   "metadata": {},
   "outputs": [],
   "source": [
    "first_testimony = df['תוכן העדות בכתב (העתק או תמלול)'].iloc[1]"
   ]
  },
  {
   "cell_type": "code",
   "execution_count": 64,
   "id": "3a0757a6-7d78-4486-904f-c27a2c6e30ca",
   "metadata": {},
   "outputs": [
    {
     "data": {
      "text/plain": [
       "4022"
      ]
     },
     "execution_count": 64,
     "metadata": {},
     "output_type": "execute_result"
    }
   ],
   "source": [
    "len(first_testimony)"
   ]
  },
  {
   "cell_type": "markdown",
   "id": "b4f2e024-c479-4cdc-9ce0-44340453091c",
   "metadata": {},
   "source": [
    "### data cleanings\n",
    "- '\\n\\n'\n",
    "- \\"
   ]
  },
  {
   "cell_type": "code",
   "execution_count": 65,
   "id": "fae5a0c2-6544-4f05-a01f-9a2ddf80213e",
   "metadata": {},
   "outputs": [],
   "source": [
    "first_testimony = first_testimony.replace('\\n\\n', '. ')\n",
    "first_testimony = first_testimony.replace('\\n', '')\n",
    "first_testimony = first_testimony.replace('״', '')"
   ]
  },
  {
   "cell_type": "code",
   "execution_count": 66,
   "id": "706372de-a42a-4bc9-8214-a4b8baf800ac",
   "metadata": {},
   "outputs": [
    {
     "data": {
      "text/plain": [
       "'התחבאתי בתוך מגירה, פחדתי על החיים שלי: עדות תצפיתית מחמל כיסופים. בדרכה הביתה הקליטה אתמול עבורנו תצפיתנית צעירה, שסיימה את את הקורס רק לפני ארבעה ימים, את מה שעברה ב-7 באוקטובר בחמ\"ל של כיסופים. אזהרה: טקסט קשה לקריאה. \"בשש וחצי היה לי שעון מעורר, הייתי צריכה לקום, ואז התחיל \\'צבע אדום, צבע אדום\\'. לא ידענו מה עושים, כי לא היינו בסיטואציה כזו, אז פשוט רצנו החוצה לגליל כזה מבטון, נכנסנו אליו אבל זה לא הכי מוגן, הבומים שם באמת מטורפים ברמה מוגזמת, שכל בום חשבתי שאני אמות. רקטות נפלו לנו ליד המגורים והרסיסים עפו עלינו וכולן התחילו לבכות, גם הבנות ששם הרבה זמן אמרו שאף פעם זה לא היה ככה חזק. שם זה רק התחיל.. התחילו להגיע הודעות שיש פשיטה, כלומר חדירה של מחבלים לשטח הארץ… לא רק בחמ\"ל שלנו, גם בנחל עוז, ביפתח, ברעים וכרם שלום. בכל קו דיווח נכנסו כמויות של מחבלים ומאצלנו מישהי התחילה לדווח עוד לפני, אבל הכוחות לא הספיקו לבוא לעצור, זה היה כמויות של מחבלים משהו פסיכי. הם התחילו לירות בפסקלים, במצלמות של התצפיות, ואז זה הגיע למצב שאנחנו לא יכולות לתצפת.. אמרו לנו שהברירה היחידה שלנו זה לקחת את הרגליים שלנו ולנוס על נפשנו לחמ\"ל. תוך כדי הצבע האדום, נפלו לידנו רקטות, ואני רצתי כמו שלא רצית בחיים שלי, פשוט רצנו, נכנסנו לחמ\"ל ואמרו לנו שכולן נוטשות עמדות. הפסקל זה מין מחשב ענק כזה עם עמדה, ואמרו לכולנו לנטוש עמדות ולעמוד מאחורי הפסקלים ולהתחבא, פשוט להתחבא.. הצטופפנו שם כולם והתחבאנו, ואז הגיעו כוחות לאבטח אותנו. היתה לנו דלת אחת שלא יכולה להסגר כי המנעול דפוק, צוות ישב עליה, זו כבר סיטואציה מזעזעת, אבל אז הפילו לנו את החשמל ושתי הדלתות חשמליות. ברגע שנפל החשמל שתיהן נפתחות.. היה בהתחלה את הצוות של גולני ומהר מאוד הם נמחקו כולם, פשוט נהרגו אחד אחרי השני. התחילו להביא פצועים לתוך החמ\"ל שלנו, התחלתי לעזור לטפל כמה שאפשר כי ממש פחדתי לצאת מאחורי הפסקלים, אתה מפחד על החיים שלך ברמות, זה קשה גם נפשית.לא אכלנו 26 שעות. לא היה אוכל, בקושי היה מים, חילקנו ממש שלוקים אחרונים בין כולנו. היינו ככה משש וחצי בבוקר עד איזה 23:00. בגלל שנפל לנו החשמל לא היה מזגן, לא היה אוויר, מתנו מחום, השתנתי לתוך כוס ולתוך פח פעמיים, לא היה איפה לעשות פיפי, אנשים חירבנו שם מתוך לחץ, בנות השתינו במכנסים, דברים שאי אפשר לתאר בכלל. אני לא יכולה לתאר כמה פחדתי על החיים שלי בכל שניה שהייתי שם, פחדתי לזוז, פחדתי לשבת, הגוף שלך קורס, לא אכלנו לא שתינו, שום דבר לא הגיוני בכלל. התחבאתי בתוך מגירה, נשכבתי בתוכה, פחדתי על החיים שלי כי הדלתות נפתחו והמחבלים השתלטו על כל החמ\"ל והיו הרבה הרוגים והרבה פצועים צועקים לנו \\'חבר שלי נהרג חבר שלי מת לי בידיים\\', אנשים מגיעים עם פיצוץ של רימון על הפנים, מה שהלך שם היה סרט אחד גדול סרט מזעזע.. ואז התחיל האזעקה של השריפה ושם הרגשתי שאני הולכת למות כי אם נצא החוצה בחוץ יש מחבלים ואם נשאר בפנים אני מתה מהשריפה. למזלנו הצליחו לכבות אותה. כנראה בנחל עוז הם שרפו את כל החמל ואז לבנות לא היתה שום ברירה זה היה או לצאת או להישאר ולהישרף ואז הן יצאו ואז לא ברור אם חטפו חלק מהן או מה.כל פעם שדפקו לנו בדלת מחבלים, זה היה אחד המפחידים, לא היה איפה להתחבא היינו בפאקינג חדר שהם הכי ניסו להגיע אליו. בפעם השלישית היינו צריכות להתחנן שיגיעו כוחות. כל כך הרבה מחבלים ומלא הרוגים ופצועים, אף אחד לא ידע איך להתנהל, ואצלנו כולן בוכות ובהיסטריה ורוצות הביתה. אני לא יודעת איך שרדתי.. התחילו לירות עלינו מהדלתות, בסוף הצליחו לנטרל אותם אבל גם בחדירה השניה הם עמדו לנו על הגגות של החמ\"ל. התחננו אל הכוחות שיביאו זיק, טיל שמעיף אותם, ובאיזשהו שלב הגנרטור התחיל לעבוד ואז עוד פעם נפל ואז התחלנו להרוג הרבה מחבלים שנסו על נפשם חזרה ופוצצנו אותם. ראינו שגנבו לנו קיטבגים של המדים שלנו וכאלה.. ניסו להוציא אותנו משם ופחדנו, היו גם טילים כל הזמן אז חיכינו עוד ובסוף עמדנו בטור בזוגות כשמשני הצדדים צוותים של לוחמים שהגנו עלינו והתחילו יריות כשאנחנו מחוץ לחמ\"ל. היינו הכי חשופות, התכופפנו שם, ישבתי על דם של לוחמים כי לא היה איפה לשבת. עד שהגענו לאוטובוס ראינו גופות של אנשים, הרבה מהחברים של התצפיתניות נהרגו, טנקים הפסיקו לעבוד, לא היינו מוכנים לזה בשום צורה. את התצפיתניות הצליחו לחלץ. מהמשקיות תש אני חושבת שאף אחת לא נשארה בחיים.. כל רעש עכשיו מלחיץ אותי וכל בום וכל טריקת דלת או מישהו שעושה אפצ\\'י. אני לא חוזרת, אני לא מסוגלת. איך אני חוזרת לחיים שלי, לישון לבד אין מצב, אני לא מסוגלת לעשות שום דבר שבנאדם נורמלי יכול לעשות. זה לא פייר שילדות בגיל שלנו היו צריכות לעבור את זה, ואני בכלל ביום השני שלי שם.'"
      ]
     },
     "execution_count": 66,
     "metadata": {},
     "output_type": "execute_result"
    }
   ],
   "source": [
    "first_testimony"
   ]
  },
  {
   "cell_type": "code",
   "execution_count": 67,
   "id": "fe06e395-1aa1-4ba6-8f5f-3da57595b8cf",
   "metadata": {},
   "outputs": [],
   "source": [
    "from transformers import BertTokenizer\n",
    "\n",
    "def truncate_text_to_500_tokens(text):\n",
    "    # Initialize the tokenizer\n",
    "    tokenizer = BertTokenizer.from_pretrained('bert-base-uncased')\n",
    "    \n",
    "    # Tokenize the input text with truncation to 500 tokens\n",
    "    tokens = tokenizer.tokenize(text)\n",
    "    \n",
    "    # Truncate the tokens to 500\n",
    "    truncated_tokens = tokens[:512]\n",
    "    \n",
    "    # Convert tokens back to string\n",
    "    truncated_text = tokenizer.convert_tokens_to_string(truncated_tokens)\n",
    "    \n",
    "    return truncated_text"
   ]
  },
  {
   "cell_type": "code",
   "execution_count": 71,
   "id": "071aed4b-f692-4b35-ba35-7ae1abdfd1b5",
   "metadata": {},
   "outputs": [
    {
     "data": {
      "text/plain": [
       "'התחבאתי בתוך מגירה , פחדתי על החיים שלי : עדות תצפיתית מחמל כיסופים . בדרכה הביתה הקליטה אתמול עבורנו תצפיתנית צעירה , שסיימה את את הקורס רק לפני ארבעה ימים , את מה שעברה ב - 7 באוקטובר בחמ \" ל של כיסופים . אזהרה : טקסט קשה לקריאה . \" בשש וחצי היה לי שעון מעורר , הייתי צריכה לקום , ואז התחיל \\' צבע אדום , צבע אדום \\' . לא ידענו מה עושים , כי לא היינו בסיטואציה כזו , אז פשוט רצנו החוצה לגליל כזה מבטון , נכנסנו אליו אבל זה לא הכי מוגן , הבומים שם באמת מטורפים ברמה מוגזמת , שכל בום חשבתי שאני אמות . רקטות נפלו לנו ליד המגורים והרסיסים עפו עלינו וכולן התחילו לבכות , גם הבנות ששם הרבה זמן אמרו שאף פעם זה לא היה ככה חזק . שם זה רק התחיל . . התחילו להגיע הודע'"
      ]
     },
     "execution_count": 71,
     "metadata": {},
     "output_type": "execute_result"
    }
   ],
   "source": [
    "short_text = truncate_text_to_500_tokens(first_testimony)\n",
    "short_text"
   ]
  },
  {
   "cell_type": "code",
   "execution_count": 72,
   "id": "4b8b4836-f5c2-4579-8388-f817d5cfe43e",
   "metadata": {},
   "outputs": [
    {
     "data": {
      "text/plain": [
       "[{'entity': 'B_DATE',\n",
       "  'score': 0.7711507,\n",
       "  'index': 46,\n",
       "  'word': '7',\n",
       "  'start': 175,\n",
       "  'end': 176},\n",
       " {'entity': 'B_DATE',\n",
       "  'score': 0.75097245,\n",
       "  'index': 47,\n",
       "  'word': 'באוקטובר',\n",
       "  'start': 177,\n",
       "  'end': 185},\n",
       " {'entity': 'B_ORG',\n",
       "  'score': 0.47764704,\n",
       "  'index': 49,\n",
       "  'word': '##מ',\n",
       "  'start': 188,\n",
       "  'end': 189}]"
      ]
     },
     "execution_count": 72,
     "metadata": {},
     "output_type": "execute_result"
    }
   ],
   "source": [
    "NER(short_text)"
   ]
  },
  {
   "cell_type": "code",
   "execution_count": 75,
   "id": "63a40e3c-333f-42a6-bcf7-70b46f4e624b",
   "metadata": {},
   "outputs": [
    {
     "data": {
      "text/plain": [
       "[{'entity': 'B_ORG',\n",
       "  'score': 0.46511105,\n",
       "  'index': 17,\n",
       "  'word': 'מחמ',\n",
       "  'start': 55,\n",
       "  'end': 58},\n",
       " {'entity': 'B_LOC',\n",
       "  'score': 0.45259655,\n",
       "  'index': 19,\n",
       "  'word': 'ירושלים',\n",
       "  'start': 60,\n",
       "  'end': 67},\n",
       " {'entity': 'B_DATE',\n",
       "  'score': 0.76917696,\n",
       "  'index': 45,\n",
       "  'word': '7',\n",
       "  'start': 175,\n",
       "  'end': 176},\n",
       " {'entity': 'B_DATE',\n",
       "  'score': 0.7660807,\n",
       "  'index': 46,\n",
       "  'word': 'באוקטובר',\n",
       "  'start': 177,\n",
       "  'end': 185},\n",
       " {'entity': 'B_LOC',\n",
       "  'score': 0.49722728,\n",
       "  'index': 51,\n",
       "  'word': 'אביב',\n",
       "  'start': 197,\n",
       "  'end': 201}]"
      ]
     },
     "execution_count": 75,
     "metadata": {},
     "output_type": "execute_result"
    }
   ],
   "source": [
    "NER('התחבאתי בתוך מגירה , פחדתי על החיים שלי : עדות תצפיתית מחמל ירושלים . בדרכה הביתה הקליטה אתמול עבורנו תצפיתנית צעירה , שסיימה את את הקורס רק לפני ארבעה ימים , את מה שעברה ב - 7 באוקטובר בחמל של תל אביב . אזהרה : טקסט קשה לקריאה . \" בשש וחצי היה לי שעון מעורר , הייתי צריכה לקום , ואז התחיל \\' צבע אדום , צבע אדום \\' . לא ידענו מה עושים , כי לא היינו בסיטואציה כזו , אז פשוט רצנו החוצה לגליל כזה מבטון , נכנסנו אליו אבל זה לא הכי מוגן , הבומים שם באמת מטורפים ברמה מוגזמת , שכל בום חשבתי שאני אמות . רקטות נפלו לנו ליד המגורים והרסיסים עפו עלינו וכולן התחילו לבכות , גם הבנות ששם הרבה זמן אמרו שאף פעם זה לא היה ככה חזק . שם זה רק התחיל . . התחילו להגיע הודע')"
   ]
  },
  {
   "cell_type": "code",
   "execution_count": 82,
   "id": "fd08ae29-5396-49a5-8ff8-b4df4e1bd958",
   "metadata": {},
   "outputs": [],
   "source": [
    "# ! pip install spacy\n",
    "# https://github.com/IAHLT/UD_Hebrew-IAHLTwiki\n"
   ]
  },
  {
   "cell_type": "code",
   "execution_count": 85,
   "id": "66087a32-d281-4183-a3df-29b206f7bac5",
   "metadata": {},
   "outputs": [],
   "source": [
    "# ! pip install https://github.com/8400TheHealthNetwork/HebSpacy/releases/download/he_ner_news_trf-3.2.1/he_ner_news_trf-3.2.1-py3-none-any.whl\n",
    "\n"
   ]
  },
  {
   "cell_type": "code",
   "execution_count": null,
   "id": "997fdddc-2643-4781-b032-cfccf8f50792",
   "metadata": {},
   "outputs": [],
   "source": [
    "nlp = spacy.load(\"he_ner_news_trf\")\n"
   ]
  },
  {
   "cell_type": "code",
   "execution_count": null,
   "id": "ff8ebab2-bdf4-4669-9173-b3ec87621b8c",
   "metadata": {},
   "outputs": [],
   "source": [
    "! pip install spacy-transformers\n"
   ]
  },
  {
   "cell_type": "code",
   "execution_count": 91,
   "id": "ad979532-6234-4201-87ed-a7df6c027226",
   "metadata": {},
   "outputs": [
    {
     "name": "stdout",
     "output_type": "stream",
     "text": [
      "Collecting he-ner-news-trf==3.2.1\n",
      "\u001b[31m  ERROR: HTTP error 404 while getting https://github.com/explosion/spacy-models/releases/download/he_ner_news_trf-3.2.1/he_ner_news_trf-3.2.1-py3-none-any.whl\u001b[0m\u001b[31m\n",
      "\u001b[0m\u001b[31mERROR: Could not install requirement he-ner-news-trf==3.2.1 from https://github.com/explosion/spacy-models/releases/download/he_ner_news_trf-3.2.1/he_ner_news_trf-3.2.1-py3-none-any.whl because of HTTP error 404 Client Error: Not Found for url: https://github.com/explosion/spacy-models/releases/download/he_ner_news_trf-3.2.1/he_ner_news_trf-3.2.1-py3-none-any.whl for URL https://github.com/explosion/spacy-models/releases/download/he_ner_news_trf-3.2.1/he_ner_news_trf-3.2.1-py3-none-any.whl\u001b[0m\u001b[31m\n",
      "\u001b[0m"
     ]
    }
   ],
   "source": [
    "! pip install https://github.com/explosion/spacy-models/releases/download/he_ner_news_trf-3.2.1/he_ner_news_trf-3.2.1-py3-none-any.whl\n"
   ]
  },
  {
   "cell_type": "code",
   "execution_count": null,
   "id": "a8a3c9a8-68d8-4070-a8d7-a73b6a5bb059",
   "metadata": {},
   "outputs": [],
   "source": [
    "import spacy\n",
    "\n",
    "nlp = spacy.load(\"he_ner_news_trf\")"
   ]
  },
  {
   "cell_type": "code",
   "execution_count": 80,
   "id": "cac0486e-e5d9-4a63-b55c-96b95ac05a35",
   "metadata": {},
   "outputs": [],
   "source": [
    "# ! pip install hebspacy\n"
   ]
  },
  {
   "cell_type": "code",
   "execution_count": null,
   "id": "9129ac96-9d7f-4149-9567-07dbb712bb8c",
   "metadata": {},
   "outputs": [],
   "source": [
    "pip install \"he_ner_news_trf\""
   ]
  },
  {
   "cell_type": "code",
   "execution_count": null,
   "id": "3a55d613-259b-43b7-98a2-0c2804258715",
   "metadata": {},
   "outputs": [],
   "source": [
    "from transformers import pipeline\n"
   ]
  },
  {
   "cell_type": "code",
   "execution_count": 2,
   "id": "c68f0710-9c2c-467b-a3dc-178b15788cc8",
   "metadata": {},
   "outputs": [
    {
     "name": "stdout",
     "output_type": "stream",
     "text": [
      "Collecting google-cloud\n",
      "  Downloading google_cloud-0.34.0-py2.py3-none-any.whl (1.8 kB)\n",
      "Installing collected packages: google-cloud\n",
      "Successfully installed google-cloud-0.34.0\n"
     ]
    }
   ],
   "source": [
    "! pip install google-cloud\n"
   ]
  },
  {
   "cell_type": "code",
   "execution_count": null,
   "id": "ac4e6a29-4e83-4eec-8adc-4dcae6f91ba1",
   "metadata": {},
   "outputs": [],
   "source": []
  }
 ],
 "metadata": {
  "kernelspec": {
   "display_name": "Python 3 (ipykernel)",
   "language": "python",
   "name": "python3"
  },
  "language_info": {
   "codemirror_mode": {
    "name": "ipython",
    "version": 3
   },
   "file_extension": ".py",
   "mimetype": "text/x-python",
   "name": "python",
   "nbconvert_exporter": "python",
   "pygments_lexer": "ipython3",
   "version": "3.8.19"
  }
 },
 "nbformat": 4,
 "nbformat_minor": 5
}
