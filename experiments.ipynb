{
 "cells": [
  {
   "cell_type": "code",
   "execution_count": 3,
   "id": "07d719c3-ef09-442f-ba70-ba385147ec01",
   "metadata": {},
   "outputs": [],
   "source": [
    "from transformers import pipeline\n",
    "import pandas as pd\n"
   ]
  },
  {
   "cell_type": "markdown",
   "id": "798e3960-9016-4130-b60d-e790d7b36821",
   "metadata": {},
   "source": [
    "- pip install numpy==1.23.4\n",
    "- pip install protobuf==3.20\n",
    "- pip install google-ads"
   ]
  },
  {
   "cell_type": "code",
   "execution_count": 9,
   "id": "a1d97829-d107-46fd-a6ba-1a311bdc9952",
   "metadata": {},
   "outputs": [],
   "source": [
    "#! pip install torch torchvision torchaudio\n"
   ]
  },
  {
   "cell_type": "code",
   "execution_count": 6,
   "id": "9a0c79f4-54ca-4799-91ff-0129d176e98a",
   "metadata": {},
   "outputs": [],
   "source": [
    "# ! pip install -U git+https://github.com/huggingface/transformers.git\n",
    "# ! pip install -U git+https://github.com/huggingface/accelerate.git"
   ]
  },
  {
   "cell_type": "code",
   "execution_count": 11,
   "id": "55b782ec-8fc9-4856-89eb-f737dd99a6cd",
   "metadata": {},
   "outputs": [],
   "source": [
    "# ! pip install tensorflow\n"
   ]
  },
  {
   "cell_type": "markdown",
   "id": "a9f6dd49-f66d-4b25-a219-1adf02902fe3",
   "metadata": {},
   "source": [
    "pip install transformers==2.5.0\n",
    "\n",
    "pip install spacy-transformers==0.6.0\n",
    "\n"
   ]
  },
  {
   "cell_type": "code",
   "execution_count": 7,
   "id": "e207e0b5-7b6d-410f-a5a2-d6543c623273",
   "metadata": {},
   "outputs": [],
   "source": [
    "# ! pip install -U transformers"
   ]
  },
  {
   "cell_type": "code",
   "execution_count": 12,
   "id": "57ca7436-837f-467d-983c-acc1eea762d1",
   "metadata": {},
   "outputs": [
    {
     "ename": "RuntimeError",
     "evalue": "At least one of TensorFlow 2.0 or PyTorch should be installed. To install TensorFlow 2.0, read the instructions at https://www.tensorflow.org/install/ To install PyTorch, read the instructions at https://pytorch.org/.",
     "output_type": "error",
     "traceback": [
      "\u001b[0;31m---------------------------------------------------------------------------\u001b[0m",
      "\u001b[0;31mRuntimeError\u001b[0m                              Traceback (most recent call last)",
      "Cell \u001b[0;32mIn[12], line 2\u001b[0m\n\u001b[1;32m      1\u001b[0m \u001b[38;5;66;03m# how to use?\u001b[39;00m\n\u001b[0;32m----> 2\u001b[0m NER \u001b[38;5;241m=\u001b[39m \u001b[43mpipeline\u001b[49m\u001b[43m(\u001b[49m\n\u001b[1;32m      3\u001b[0m \u001b[43m    \u001b[49m\u001b[38;5;124;43m\"\u001b[39;49m\u001b[38;5;124;43mtoken-classification\u001b[39;49m\u001b[38;5;124;43m\"\u001b[39;49m\u001b[43m,\u001b[49m\n\u001b[1;32m      4\u001b[0m \u001b[43m    \u001b[49m\u001b[43mmodel\u001b[49m\u001b[38;5;241;43m=\u001b[39;49m\u001b[38;5;124;43m\"\u001b[39;49m\u001b[38;5;124;43mavichr/heBERT_NER\u001b[39;49m\u001b[38;5;124;43m\"\u001b[39;49m\u001b[43m,\u001b[49m\n\u001b[1;32m      5\u001b[0m \u001b[43m    \u001b[49m\u001b[43mtokenizer\u001b[49m\u001b[38;5;241;43m=\u001b[39;49m\u001b[38;5;124;43m\"\u001b[39;49m\u001b[38;5;124;43mavichr/heBERT_NER\u001b[39;49m\u001b[38;5;124;43m\"\u001b[39;49m\u001b[43m,\u001b[49m\n\u001b[1;32m      6\u001b[0m \u001b[43m)\u001b[49m\n\u001b[1;32m      7\u001b[0m NER(\u001b[38;5;124m'\u001b[39m\u001b[38;5;124mדויד לומד באוניברסיטה העברית שבירושלים\u001b[39m\u001b[38;5;124m'\u001b[39m)\n",
      "File \u001b[0;32m~/.local/lib/python3.8/site-packages/transformers/pipelines/__init__.py:906\u001b[0m, in \u001b[0;36mpipeline\u001b[0;34m(task, model, config, tokenizer, feature_extractor, image_processor, framework, revision, use_fast, token, device, device_map, torch_dtype, trust_remote_code, model_kwargs, pipeline_class, **kwargs)\u001b[0m\n\u001b[1;32m    904\u001b[0m \u001b[38;5;28;01mif\u001b[39;00m \u001b[38;5;28misinstance\u001b[39m(model, \u001b[38;5;28mstr\u001b[39m) \u001b[38;5;129;01mor\u001b[39;00m framework \u001b[38;5;129;01mis\u001b[39;00m \u001b[38;5;28;01mNone\u001b[39;00m:\n\u001b[1;32m    905\u001b[0m     model_classes \u001b[38;5;241m=\u001b[39m {\u001b[38;5;124m\"\u001b[39m\u001b[38;5;124mtf\u001b[39m\u001b[38;5;124m\"\u001b[39m: targeted_task[\u001b[38;5;124m\"\u001b[39m\u001b[38;5;124mtf\u001b[39m\u001b[38;5;124m\"\u001b[39m], \u001b[38;5;124m\"\u001b[39m\u001b[38;5;124mpt\u001b[39m\u001b[38;5;124m\"\u001b[39m: targeted_task[\u001b[38;5;124m\"\u001b[39m\u001b[38;5;124mpt\u001b[39m\u001b[38;5;124m\"\u001b[39m]}\n\u001b[0;32m--> 906\u001b[0m     framework, model \u001b[38;5;241m=\u001b[39m \u001b[43minfer_framework_load_model\u001b[49m\u001b[43m(\u001b[49m\n\u001b[1;32m    907\u001b[0m \u001b[43m        \u001b[49m\u001b[43mmodel\u001b[49m\u001b[43m,\u001b[49m\n\u001b[1;32m    908\u001b[0m \u001b[43m        \u001b[49m\u001b[43mmodel_classes\u001b[49m\u001b[38;5;241;43m=\u001b[39;49m\u001b[43mmodel_classes\u001b[49m\u001b[43m,\u001b[49m\n\u001b[1;32m    909\u001b[0m \u001b[43m        \u001b[49m\u001b[43mconfig\u001b[49m\u001b[38;5;241;43m=\u001b[39;49m\u001b[43mconfig\u001b[49m\u001b[43m,\u001b[49m\n\u001b[1;32m    910\u001b[0m \u001b[43m        \u001b[49m\u001b[43mframework\u001b[49m\u001b[38;5;241;43m=\u001b[39;49m\u001b[43mframework\u001b[49m\u001b[43m,\u001b[49m\n\u001b[1;32m    911\u001b[0m \u001b[43m        \u001b[49m\u001b[43mtask\u001b[49m\u001b[38;5;241;43m=\u001b[39;49m\u001b[43mtask\u001b[49m\u001b[43m,\u001b[49m\n\u001b[1;32m    912\u001b[0m \u001b[43m        \u001b[49m\u001b[38;5;241;43m*\u001b[39;49m\u001b[38;5;241;43m*\u001b[39;49m\u001b[43mhub_kwargs\u001b[49m\u001b[43m,\u001b[49m\n\u001b[1;32m    913\u001b[0m \u001b[43m        \u001b[49m\u001b[38;5;241;43m*\u001b[39;49m\u001b[38;5;241;43m*\u001b[39;49m\u001b[43mmodel_kwargs\u001b[49m\u001b[43m,\u001b[49m\n\u001b[1;32m    914\u001b[0m \u001b[43m    \u001b[49m\u001b[43m)\u001b[49m\n\u001b[1;32m    916\u001b[0m model_config \u001b[38;5;241m=\u001b[39m model\u001b[38;5;241m.\u001b[39mconfig\n\u001b[1;32m    917\u001b[0m hub_kwargs[\u001b[38;5;124m\"\u001b[39m\u001b[38;5;124m_commit_hash\u001b[39m\u001b[38;5;124m\"\u001b[39m] \u001b[38;5;241m=\u001b[39m model\u001b[38;5;241m.\u001b[39mconfig\u001b[38;5;241m.\u001b[39m_commit_hash\n",
      "File \u001b[0;32m~/.local/lib/python3.8/site-packages/transformers/pipelines/base.py:234\u001b[0m, in \u001b[0;36minfer_framework_load_model\u001b[0;34m(model, config, model_classes, task, framework, **model_kwargs)\u001b[0m\n\u001b[1;32m    208\u001b[0m \u001b[38;5;250m\u001b[39m\u001b[38;5;124;03m\"\"\"\u001b[39;00m\n\u001b[1;32m    209\u001b[0m \u001b[38;5;124;03mSelect framework (TensorFlow or PyTorch) to use from the `model` passed. Returns a tuple (framework, model).\u001b[39;00m\n\u001b[1;32m    210\u001b[0m \n\u001b[0;32m   (...)\u001b[0m\n\u001b[1;32m    231\u001b[0m \u001b[38;5;124;03m    `Tuple`: A tuple framework, model.\u001b[39;00m\n\u001b[1;32m    232\u001b[0m \u001b[38;5;124;03m\"\"\"\u001b[39;00m\n\u001b[1;32m    233\u001b[0m \u001b[38;5;28;01mif\u001b[39;00m \u001b[38;5;129;01mnot\u001b[39;00m is_tf_available() \u001b[38;5;129;01mand\u001b[39;00m \u001b[38;5;129;01mnot\u001b[39;00m is_torch_available():\n\u001b[0;32m--> 234\u001b[0m     \u001b[38;5;28;01mraise\u001b[39;00m \u001b[38;5;167;01mRuntimeError\u001b[39;00m(\n\u001b[1;32m    235\u001b[0m         \u001b[38;5;124m\"\u001b[39m\u001b[38;5;124mAt least one of TensorFlow 2.0 or PyTorch should be installed. \u001b[39m\u001b[38;5;124m\"\u001b[39m\n\u001b[1;32m    236\u001b[0m         \u001b[38;5;124m\"\u001b[39m\u001b[38;5;124mTo install TensorFlow 2.0, read the instructions at https://www.tensorflow.org/install/ \u001b[39m\u001b[38;5;124m\"\u001b[39m\n\u001b[1;32m    237\u001b[0m         \u001b[38;5;124m\"\u001b[39m\u001b[38;5;124mTo install PyTorch, read the instructions at https://pytorch.org/.\u001b[39m\u001b[38;5;124m\"\u001b[39m\n\u001b[1;32m    238\u001b[0m     )\n\u001b[1;32m    239\u001b[0m \u001b[38;5;28;01mif\u001b[39;00m \u001b[38;5;28misinstance\u001b[39m(model, \u001b[38;5;28mstr\u001b[39m):\n\u001b[1;32m    240\u001b[0m     model_kwargs[\u001b[38;5;124m\"\u001b[39m\u001b[38;5;124m_from_pipeline\u001b[39m\u001b[38;5;124m\"\u001b[39m] \u001b[38;5;241m=\u001b[39m task\n",
      "\u001b[0;31mRuntimeError\u001b[0m: At least one of TensorFlow 2.0 or PyTorch should be installed. To install TensorFlow 2.0, read the instructions at https://www.tensorflow.org/install/ To install PyTorch, read the instructions at https://pytorch.org/."
     ]
    }
   ],
   "source": [
    "# how to use?\n",
    "NER = pipeline(\n",
    "    \"token-classification\",\n",
    "    model=\"avichr/heBERT_NER\",\n",
    "    tokenizer=\"avichr/heBERT_NER\",\n",
    ")\n",
    "NER('דויד לומד באוניברסיטה העברית שבירושלים')\n"
   ]
  },
  {
   "cell_type": "markdown",
   "id": "dc400b37-3016-4c03-a778-e95419fe8172",
   "metadata": {},
   "source": [
    "### Entities:\n",
    "#### Pepole:\n",
    "- Author\n",
    "- Contributer\n",
    "- Pepole that are mentioned in the testimony\n",
    "<br> --> if possible add id per entity\n",
    "#### Places:\n",
    "- Places\n",
    "<br> --> Make sure same name can be different locations: Reim Kibbuz, Reim Base, Reim Festival\n",
    "#### Organizations\n",
    "- Organizations\n",
    "אחים לנשק \n",
    "עיריית שדרות\n",
    "צוות יורם (קבוצה שעזרה) \n",
    "צה״ל \n",
    "משטרה \n",
    "\n"
   ]
  },
  {
   "cell_type": "code",
   "execution_count": 6,
   "id": "fd28ccff-e3b9-4821-81dc-88dfa2f3bc5f",
   "metadata": {},
   "outputs": [],
   "source": [
    "df = pd.read_excel(\"710 archive for Omeka (1).xlsx\")"
   ]
  },
  {
   "cell_type": "code",
   "execution_count": 31,
   "id": "d0758e40-a925-47fa-9a29-5ac0bd4d4af0",
   "metadata": {},
   "outputs": [],
   "source": [
    "df = pd.read_csv('data_archive - main.csv', encoding='utf-8')\n",
    "pd.set_option('display.unicode.east_asian_width', True)\n"
   ]
  },
  {
   "cell_type": "code",
   "execution_count": 32,
   "id": "51f4098d-d5f2-41ef-bb07-6ce6705ee8f6",
   "metadata": {},
   "outputs": [
    {
     "data": {
      "text/html": [
       "<div>\n",
       "<style scoped>\n",
       "    .dataframe tbody tr th:only-of-type {\n",
       "        vertical-align: middle;\n",
       "    }\n",
       "\n",
       "    .dataframe tbody tr th {\n",
       "        vertical-align: top;\n",
       "    }\n",
       "\n",
       "    .dataframe thead th {\n",
       "        text-align: right;\n",
       "    }\n",
       "</style>\n",
       "<table border=\"1\" class=\"dataframe\">\n",
       "  <thead>\n",
       "    <tr style=\"text-align: right;\">\n",
       "      <th></th>\n",
       "      <th>סימול\\n(file name)</th>\n",
       "      <th>Omeka ID</th>\n",
       "      <th>Title</th>\n",
       "      <th>Short title</th>\n",
       "      <th>Record Resource (RiC-E02)</th>\n",
       "      <th>Date [RiC-E19]</th>\n",
       "      <th>Time Frame [DateSet RiC-E21]</th>\n",
       "      <th>Description [RiC-A16]</th>\n",
       "      <th>Agent - RiC-E08\\nCreator (Person or organization)</th>\n",
       "      <th>Contributor (Person or organization)</th>\n",
       "      <th>...</th>\n",
       "      <th>קישור לקובץ מקור</th>\n",
       "      <th>תוכן העדות בכתב (העתק או תמלול)</th>\n",
       "      <th>מילות מפתח</th>\n",
       "      <th>Rights</th>\n",
       "      <th>חותמת זמן</th>\n",
       "      <th>מפנה / מפקיד</th>\n",
       "      <th>גרסת טופס</th>\n",
       "      <th>אוסף</th>\n",
       "      <th>קוטלג</th>\n",
       "      <th>Unnamed: 33</th>\n",
       "    </tr>\n",
       "  </thead>\n",
       "  <tbody>\n",
       "    <tr>\n",
       "      <th>0</th>\n",
       "      <td>NaN</td>\n",
       "      <td>NaN</td>\n",
       "      <td>עדות אישית של אמיר תיבון, תושב נחל עוז</td>\n",
       "      <td>NaN</td>\n",
       "      <td>NaN</td>\n",
       "      <td>2023-10-08</td>\n",
       "      <td>NaN</td>\n",
       "      <td>NaN</td>\n",
       "      <td>אמיר תיבון</td>\n",
       "      <td>NaN</td>\n",
       "      <td>...</td>\n",
       "      <td>NaN</td>\n",
       "      <td>NaN</td>\n",
       "      <td>NaN</td>\n",
       "      <td>NaN</td>\n",
       "      <td>2023-10-11 11:41:16</td>\n",
       "      <td>NaN</td>\n",
       "      <td>1.0</td>\n",
       "      <td>עדויות מהמתקפה בתקשורת: חודש ראשון</td>\n",
       "      <td>True</td>\n",
       "      <td>NaN</td>\n",
       "    </tr>\n",
       "    <tr>\n",
       "      <th>1</th>\n",
       "      <td>NaN</td>\n",
       "      <td>NaN</td>\n",
       "      <td>עדות אנונימית של תצפיתנית באתר ״המקום הכי חם ב...</td>\n",
       "      <td>NaN</td>\n",
       "      <td>NaN</td>\n",
       "      <td>2023-10-09</td>\n",
       "      <td>שבוע</td>\n",
       "      <td>עדות של תצפיתנית במוצב כיסופים המתארת ההשלתטות...</td>\n",
       "      <td>תצפיתנית אנונימית - דרוש אימות</td>\n",
       "      <td>עינת פישביין</td>\n",
       "      <td>...</td>\n",
       "      <td>NaN</td>\n",
       "      <td>״התחבאתי בתוך מגירה, פחדתי על החיים שלי״: עדות...</td>\n",
       "      <td>NaN</td>\n",
       "      <td>המקום הכי חם בגיהנום</td>\n",
       "      <td>2023-10-13 10:53:25</td>\n",
       "      <td>NaN</td>\n",
       "      <td>1.0</td>\n",
       "      <td>עדויות מהמתקפה בתקשורת: חודש ראשון</td>\n",
       "      <td>True</td>\n",
       "      <td>NaN</td>\n",
       "    </tr>\n",
       "    <tr>\n",
       "      <th>2</th>\n",
       "      <td>NaN</td>\n",
       "      <td>NaN</td>\n",
       "      <td>עדות עטייה אלאעסם, ראש המועצה לכפרים הלא מוכרי...</td>\n",
       "      <td>NaN</td>\n",
       "      <td>NaN</td>\n",
       "      <td>2023-10-09</td>\n",
       "      <td>שבוע</td>\n",
       "      <td>עלאסם מתאר את המחסור במיגוניות. באוכלוסיית הכפ...</td>\n",
       "      <td>עטייה אלאעסם</td>\n",
       "      <td>NaN</td>\n",
       "      <td>...</td>\n",
       "      <td>NaN</td>\n",
       "      <td>״יש 130 אלף תושבים שגרים בכפרים הבלתי מוכרים. ...</td>\n",
       "      <td>NaN</td>\n",
       "      <td>המקום הכי חם בגיהנום</td>\n",
       "      <td>2023-10-13 10:58:23</td>\n",
       "      <td>NaN</td>\n",
       "      <td>1.0</td>\n",
       "      <td>עדויות מהמתקפה בתקשורת: חודש ראשון</td>\n",
       "      <td>True</td>\n",
       "      <td>NaN</td>\n",
       "    </tr>\n",
       "    <tr>\n",
       "      <th>3</th>\n",
       "      <td>NaN</td>\n",
       "      <td>NaN</td>\n",
       "      <td>עדות של רמי דוידיאן ממושב פטיש, בעמוד האינסטרג...</td>\n",
       "      <td>NaN</td>\n",
       "      <td>NaN</td>\n",
       "      <td>2023-10-08</td>\n",
       "      <td>שבוע</td>\n",
       "      <td>NaN</td>\n",
       "      <td>רמי דוידיאן</td>\n",
       "      <td>NaN</td>\n",
       "      <td>...</td>\n",
       "      <td>NaN</td>\n",
       "      <td>מצאנו המון גופות מהבוקר\", אומר רמי דוידיאן, \"א...</td>\n",
       "      <td>NaN</td>\n",
       "      <td>NaN</td>\n",
       "      <td>2023-10-13 14:53:24</td>\n",
       "      <td>המקום הכי חם בגיהנום</td>\n",
       "      <td>1.0</td>\n",
       "      <td>עדויות מהמתקפה בתקשורת: חודש ראשון</td>\n",
       "      <td>True</td>\n",
       "      <td>NaN</td>\n",
       "    </tr>\n",
       "    <tr>\n",
       "      <th>4</th>\n",
       "      <td>NaN</td>\n",
       "      <td>NaN</td>\n",
       "      <td>״הבן שלי אמר שיורים עליו. הייתי חייב לנסות להצ...</td>\n",
       "      <td>NaN</td>\n",
       "      <td>NaN</td>\n",
       "      <td>2023-10-11</td>\n",
       "      <td>שבוע</td>\n",
       "      <td>NaN</td>\n",
       "      <td>ניר גונטז'</td>\n",
       "      <td>אמיר גונטז׳</td>\n",
       "      <td>...</td>\n",
       "      <td>NaN</td>\n",
       "      <td>בבוקר שבת התעוררתי בביתי לקול האזעקות שנשמעו ב...</td>\n",
       "      <td>NaN</td>\n",
       "      <td>עיתון ״הארץ״</td>\n",
       "      <td>2023-10-13 14:58:55</td>\n",
       "      <td>אור רפל-קרויזר</td>\n",
       "      <td>1.0</td>\n",
       "      <td>עדויות מהמתקפה בתקשורת: חודש ראשון</td>\n",
       "      <td>True</td>\n",
       "      <td>NaN</td>\n",
       "    </tr>\n",
       "    <tr>\n",
       "      <th>...</th>\n",
       "      <td>...</td>\n",
       "      <td>...</td>\n",
       "      <td>...</td>\n",
       "      <td>...</td>\n",
       "      <td>...</td>\n",
       "      <td>...</td>\n",
       "      <td>...</td>\n",
       "      <td>...</td>\n",
       "      <td>...</td>\n",
       "      <td>...</td>\n",
       "      <td>...</td>\n",
       "      <td>...</td>\n",
       "      <td>...</td>\n",
       "      <td>...</td>\n",
       "      <td>...</td>\n",
       "      <td>...</td>\n",
       "      <td>...</td>\n",
       "      <td>...</td>\n",
       "      <td>...</td>\n",
       "      <td>...</td>\n",
       "      <td>...</td>\n",
       "    </tr>\n",
       "    <tr>\n",
       "      <th>847</th>\n",
       "      <td>NaN</td>\n",
       "      <td>NaN</td>\n",
       "      <td>אמבולנס המוות בנובה: שניים מהנרצחים נקברו בקבר...</td>\n",
       "      <td>אליקים ליבמן היה מאבטח במסיבת הנובה, הציל פצו...</td>\n",
       "      <td>NaN</td>\n",
       "      <td>2024-04-05</td>\n",
       "      <td>NaN</td>\n",
       "      <td>NaN</td>\n",
       "      <td>אורלי אלקלעי</td>\n",
       "      <td>NaN</td>\n",
       "      <td>...</td>\n",
       "      <td>NaN</td>\n",
       "      <td>NaN</td>\n",
       "      <td>NaN</td>\n",
       "      <td>NaN</td>\n",
       "      <td>NaN</td>\n",
       "      <td>עינת אבן</td>\n",
       "      <td>NaN</td>\n",
       "      <td>NaN</td>\n",
       "      <td>NaN</td>\n",
       "      <td>NaN</td>\n",
       "    </tr>\n",
       "    <tr>\n",
       "      <th>848</th>\n",
       "      <td>NaN</td>\n",
       "      <td>NaN</td>\n",
       "      <td>צרפת: גבר נעצר בחשד שחטף ואנס אישה יהודייה כדי...</td>\n",
       "      <td>על פי דיווחים בתקשורת הצרפתית, ביום ראשון האיש...</td>\n",
       "      <td>NaN</td>\n",
       "      <td>2024-04-23</td>\n",
       "      <td>NaN</td>\n",
       "      <td>NaN</td>\n",
       "      <td>איתמר  אייכנר</td>\n",
       "      <td>NaN</td>\n",
       "      <td>...</td>\n",
       "      <td>NaN</td>\n",
       "      <td>NaN</td>\n",
       "      <td>NaN</td>\n",
       "      <td>NaN</td>\n",
       "      <td>NaN</td>\n",
       "      <td>עינת אבן</td>\n",
       "      <td>NaN</td>\n",
       "      <td>NaN</td>\n",
       "      <td>NaN</td>\n",
       "      <td>NaN</td>\n",
       "    </tr>\n",
       "    <tr>\n",
       "      <th>849</th>\n",
       "      <td>NaN</td>\n",
       "      <td>NaN</td>\n",
       "      <td>\"דיווחים על איומי מוות\": מכתב ההתרעה לנשיאת או...</td>\n",
       "      <td>המפגינים הפרו-פלסטינים שהקימו אוהלים בקמפוס הי...</td>\n",
       "      <td>NaN</td>\n",
       "      <td>2024-04-24</td>\n",
       "      <td>NaN</td>\n",
       "      <td>NaN</td>\n",
       "      <td>דניאל אדלסון</td>\n",
       "      <td>NaN</td>\n",
       "      <td>...</td>\n",
       "      <td>NaN</td>\n",
       "      <td>NaN</td>\n",
       "      <td>NaN</td>\n",
       "      <td>NaN</td>\n",
       "      <td>NaN</td>\n",
       "      <td>Eynat Even</td>\n",
       "      <td>NaN</td>\n",
       "      <td>NaN</td>\n",
       "      <td>NaN</td>\n",
       "      <td>NaN</td>\n",
       "    </tr>\n",
       "    <tr>\n",
       "      <th>850</th>\n",
       "      <td>NaN</td>\n",
       "      <td>NaN</td>\n",
       "      <td>nside the Seder dinner on Columbia's Gaza prot...</td>\n",
       "      <td>On the 6th day of Columbia University's protes...</td>\n",
       "      <td>NaN</td>\n",
       "      <td>2024-04-23</td>\n",
       "      <td>NaN</td>\n",
       "      <td>NaN</td>\n",
       "      <td>פלוני אלמוני</td>\n",
       "      <td>NaN</td>\n",
       "      <td>...</td>\n",
       "      <td>NaN</td>\n",
       "      <td>NaN</td>\n",
       "      <td>NaN</td>\n",
       "      <td>NaN</td>\n",
       "      <td>NaN</td>\n",
       "      <td>עינת אבן</td>\n",
       "      <td>NaN</td>\n",
       "      <td>NaN</td>\n",
       "      <td>NaN</td>\n",
       "      <td>NaN</td>\n",
       "    </tr>\n",
       "    <tr>\n",
       "      <th>851</th>\n",
       "      <td>NaN</td>\n",
       "      <td>NaN</td>\n",
       "      <td>קברו ראש של בובה - ושיקרו למשפחה\": הגילוי המטל...</td>\n",
       "      <td>אביעד אדרי היה אחד הדיירים בשכונת הצעירים בכפר...</td>\n",
       "      <td>NaN</td>\n",
       "      <td>2024-04-17</td>\n",
       "      <td>NaN</td>\n",
       "      <td>NaN</td>\n",
       "      <td>ויקו אטואן</td>\n",
       "      <td>NaN</td>\n",
       "      <td>...</td>\n",
       "      <td>NaN</td>\n",
       "      <td>NaN</td>\n",
       "      <td>NaN</td>\n",
       "      <td>NaN</td>\n",
       "      <td>NaN</td>\n",
       "      <td>עינת</td>\n",
       "      <td>NaN</td>\n",
       "      <td>NaN</td>\n",
       "      <td>NaN</td>\n",
       "      <td>NaN</td>\n",
       "    </tr>\n",
       "  </tbody>\n",
       "</table>\n",
       "<p>852 rows × 34 columns</p>\n",
       "</div>"
      ],
      "text/plain": [
       "     סימול\\n(file name)  Omeka ID  \\\n",
       "0                   NaN       NaN   \n",
       "1                   NaN       NaN   \n",
       "2                   NaN       NaN   \n",
       "3                   NaN       NaN   \n",
       "4                   NaN       NaN   \n",
       "..                  ...       ...   \n",
       "847                 NaN       NaN   \n",
       "848                 NaN       NaN   \n",
       "849                 NaN       NaN   \n",
       "850                 NaN       NaN   \n",
       "851                 NaN       NaN   \n",
       "\n",
       "                                                 Title  \\\n",
       "0               עדות אישית של אמיר תיבון, תושב נחל עוז   \n",
       "1    עדות אנונימית של תצפיתנית באתר ״המקום הכי חם ב...   \n",
       "2    עדות עטייה אלאעסם, ראש המועצה לכפרים הלא מוכרי...   \n",
       "3    עדות של רמי דוידיאן ממושב פטיש, בעמוד האינסטרג...   \n",
       "4    ״הבן שלי אמר שיורים עליו. הייתי חייב לנסות להצ...   \n",
       "..                                                 ...   \n",
       "847  אמבולנס המוות בנובה: שניים מהנרצחים נקברו בקבר...   \n",
       "848  צרפת: גבר נעצר בחשד שחטף ואנס אישה יהודייה כדי...   \n",
       "849  \"דיווחים על איומי מוות\": מכתב ההתרעה לנשיאת או...   \n",
       "850  nside the Seder dinner on Columbia's Gaza prot...   \n",
       "851  קברו ראש של בובה - ושיקרו למשפחה\": הגילוי המטל...   \n",
       "\n",
       "                                           Short title  \\\n",
       "0                                                  NaN   \n",
       "1                                                  NaN   \n",
       "2                                                  NaN   \n",
       "3                                                  NaN   \n",
       "4                                                  NaN   \n",
       "..                                                 ...   \n",
       "847   אליקים ליבמן היה מאבטח במסיבת הנובה, הציל פצו...   \n",
       "848  על פי דיווחים בתקשורת הצרפתית, ביום ראשון האיש...   \n",
       "849  המפגינים הפרו-פלסטינים שהקימו אוהלים בקמפוס הי...   \n",
       "850  On the 6th day of Columbia University's protes...   \n",
       "851  אביעד אדרי היה אחד הדיירים בשכונת הצעירים בכפר...   \n",
       "\n",
       "     Record Resource (RiC-E02) Date [RiC-E19] Time Frame [DateSet RiC-E21]  \\\n",
       "0                          NaN     2023-10-08                          NaN   \n",
       "1                          NaN     2023-10-09                         שבוע   \n",
       "2                          NaN     2023-10-09                         שבוע   \n",
       "3                          NaN     2023-10-08                         שבוע   \n",
       "4                          NaN     2023-10-11                         שבוע   \n",
       "..                         ...            ...                          ...   \n",
       "847                        NaN     2024-04-05                          NaN   \n",
       "848                        NaN     2024-04-23                          NaN   \n",
       "849                        NaN     2024-04-24                          NaN   \n",
       "850                        NaN     2024-04-23                          NaN   \n",
       "851                        NaN     2024-04-17                          NaN   \n",
       "\n",
       "                                 Description [RiC-A16]  \\\n",
       "0                                                  NaN   \n",
       "1    עדות של תצפיתנית במוצב כיסופים המתארת ההשלתטות...   \n",
       "2    עלאסם מתאר את המחסור במיגוניות. באוכלוסיית הכפ...   \n",
       "3                                                  NaN   \n",
       "4                                                  NaN   \n",
       "..                                                 ...   \n",
       "847                                                NaN   \n",
       "848                                                NaN   \n",
       "849                                                NaN   \n",
       "850                                                NaN   \n",
       "851                                                NaN   \n",
       "\n",
       "    Agent - RiC-E08\\nCreator (Person or organization)  \\\n",
       "0                                          אמיר תיבון   \n",
       "1                      תצפיתנית אנונימית - דרוש אימות   \n",
       "2                                        עטייה אלאעסם   \n",
       "3                                         רמי דוידיאן   \n",
       "4                                          ניר גונטז'   \n",
       "..                                                ...   \n",
       "847                                      אורלי אלקלעי   \n",
       "848                                     איתמר  אייכנר   \n",
       "849                                      דניאל אדלסון   \n",
       "850                                      פלוני אלמוני   \n",
       "851                                        ויקו אטואן   \n",
       "\n",
       "    Contributor (Person or organization)  ... קישור לקובץ מקור  \\\n",
       "0                                    NaN  ...              NaN   \n",
       "1                          עינת פישביין   ...              NaN   \n",
       "2                                    NaN  ...              NaN   \n",
       "3                                    NaN  ...              NaN   \n",
       "4                           אמיר גונטז׳   ...              NaN   \n",
       "..                                   ...  ...              ...   \n",
       "847                                  NaN  ...              NaN   \n",
       "848                                  NaN  ...              NaN   \n",
       "849                                  NaN  ...              NaN   \n",
       "850                                  NaN  ...              NaN   \n",
       "851                                  NaN  ...              NaN   \n",
       "\n",
       "                       תוכן העדות בכתב (העתק או תמלול) מילות מפתח  \\\n",
       "0                                                  NaN        NaN   \n",
       "1    ״התחבאתי בתוך מגירה, פחדתי על החיים שלי״: עדות...        NaN   \n",
       "2    ״יש 130 אלף תושבים שגרים בכפרים הבלתי מוכרים. ...        NaN   \n",
       "3    מצאנו המון גופות מהבוקר\", אומר רמי דוידיאן, \"א...        NaN   \n",
       "4    בבוקר שבת התעוררתי בביתי לקול האזעקות שנשמעו ב...        NaN   \n",
       "..                                                 ...        ...   \n",
       "847                                                NaN        NaN   \n",
       "848                                                NaN        NaN   \n",
       "849                                                NaN        NaN   \n",
       "850                                                NaN        NaN   \n",
       "851                                                NaN        NaN   \n",
       "\n",
       "                   Rights            חותמת זמן          מפנה / מפקיד  \\\n",
       "0                     NaN  2023-10-11 11:41:16                   NaN   \n",
       "1    המקום הכי חם בגיהנום  2023-10-13 10:53:25                   NaN   \n",
       "2    המקום הכי חם בגיהנום  2023-10-13 10:58:23                   NaN   \n",
       "3                     NaN  2023-10-13 14:53:24  המקום הכי חם בגיהנום   \n",
       "4            עיתון ״הארץ״  2023-10-13 14:58:55        אור רפל-קרויזר   \n",
       "..                    ...                  ...                   ...   \n",
       "847                   NaN                  NaN             עינת אבן    \n",
       "848                   NaN                  NaN             עינת אבן    \n",
       "849                   NaN                  NaN           Eynat Even    \n",
       "850                   NaN                  NaN             עינת אבן    \n",
       "851                   NaN                  NaN                 עינת    \n",
       "\n",
       "    גרסת טופס                                אוסף קוטלג   Unnamed: 33  \n",
       "0         1.0  עדויות מהמתקפה בתקשורת: חודש ראשון   True          NaN  \n",
       "1         1.0  עדויות מהמתקפה בתקשורת: חודש ראשון   True          NaN  \n",
       "2         1.0  עדויות מהמתקפה בתקשורת: חודש ראשון   True          NaN  \n",
       "3         1.0  עדויות מהמתקפה בתקשורת: חודש ראשון   True          NaN  \n",
       "4         1.0  עדויות מהמתקפה בתקשורת: חודש ראשון   True          NaN  \n",
       "..        ...                                 ...    ...          ...  \n",
       "847       NaN                                 NaN    NaN          NaN  \n",
       "848       NaN                                 NaN    NaN          NaN  \n",
       "849       NaN                                 NaN    NaN          NaN  \n",
       "850       NaN                                 NaN    NaN          NaN  \n",
       "851       NaN                                 NaN    NaN          NaN  \n",
       "\n",
       "[852 rows x 34 columns]"
      ]
     },
     "execution_count": 32,
     "metadata": {},
     "output_type": "execute_result"
    }
   ],
   "source": [
    "df"
   ]
  },
  {
   "cell_type": "code",
   "execution_count": 33,
   "id": "f3f9e3cc-a0d9-4687-8ef3-349dc3993b09",
   "metadata": {},
   "outputs": [],
   "source": [
    "df.drop('Unnamed: 33', axis=1, inplace=True)"
   ]
  },
  {
   "cell_type": "code",
   "execution_count": 34,
   "id": "dfb58544-d23b-4b03-83c0-1a67a277fce0",
   "metadata": {},
   "outputs": [
    {
     "data": {
      "text/plain": [
       "Index(['סימול\\n(file name)', 'Omeka ID', 'Title', 'Short title',\n",
       "       'Record Resource (RiC-E02)', 'Date [RiC-E19]',\n",
       "       'Time Frame [DateSet RiC-E21]', 'Description [RiC-A16]',\n",
       "       'Agent - RiC-E08\\nCreator (Person or organization)',\n",
       "       'Contributor (Person or organization)', 'person mentioned ',\n",
       "       'Place  mentioned [RiC-A11] ', 'Event Type [RiC- A18]',\n",
       "       'Form Type [RiC-A17]', 'Content Type [RiC-A10]',\n",
       "       'Representation Type RiC-A37', 'Language [RiC-A25]',\n",
       "       'Publisher/platform [RiC-E11]', 'item mentioned in item',\n",
       "       'item is response to item', 'item is part of item', 'Source',\n",
       "       'קישור לאתר / ערוץ (URL)', 'קישור למקור (URL) / Identifier',\n",
       "       'קישור לקובץ מקור', 'תוכן העדות בכתב (העתק או תמלול)', 'מילות מפתח',\n",
       "       'Rights', 'חותמת זמן', 'מפנה / מפקיד', 'גרסת טופס', 'אוסף', 'קוטלג '],\n",
       "      dtype='object')"
      ]
     },
     "execution_count": 34,
     "metadata": {},
     "output_type": "execute_result"
    }
   ],
   "source": [
    "df.columns"
   ]
  },
  {
   "cell_type": "code",
   "execution_count": 35,
   "id": "6854e7a7-0fb4-4082-8211-58c2bb601a89",
   "metadata": {},
   "outputs": [
    {
     "data": {
      "text/plain": [
       "'״התחבאתי בתוך מגירה, פחדתי על החיים שלי״: עדות תצפיתית מחמ״ל כיסופים\\n\\nבדרכה הביתה הקליטה אתמול עבורנו תצפיתנית צעירה, שסיימה את את הקורס רק לפני ארבעה ימים, את מה שעברה ב-7 באוקטובר בחמ\"ל של כיסופים. אזהרה: טקסט קשה לקריאה\\n\\n\"בשש וחצי היה לי שעון מעורר, הייתי צריכה לקום, ואז התחיל \\'צבע אדום, צבע אדום\\'. לא ידענו מה עושים, כי לא היינו בסיטואציה כזו, אז פשוט רצנו החוצה לגליל כזה מבטון, נכנסנו אליו אבל זה לא הכי מוגן, הבומים שם באמת מטורפים ברמה מוגזמת, שכל בום חשבתי שאני אמות. רקטות נפלו לנו ליד המגורים והרסיסים עפו עלינו וכולן התחילו לבכות, גם הבנות ששם הרבה זמן אמרו שאף פעם זה לא היה ככה חזק. שם זה רק התחיל.\\n\\nהתחילו להגיע הודעות שיש פשיטה, כלומר חדירה של מחבלים לשטח הארץ… לא רק בחמ\"ל שלנו, גם בנחל עוז, ביפתח, ברעים וכרם שלום. בכל קו דיווח נכנסו כמויות של מחבלים ומאצלנו מישהי התחילה לדווח עוד לפני, אבל הכוחות לא הספיקו לבוא לעצור, זה היה כמויות של מחבלים משהו פסיכי. הם התחילו לירות בפסקלים, במצלמות של התצפיות, ואז זה הגיע למצב שאנחנו לא יכולות לתצפת.\\n\\nאמרו לנו שהברירה היחידה שלנו זה לקחת את הרגליים שלנו ולנוס על נפשנו לחמ\"ל. תוך כדי הצבע האדום, נפלו לידנו רקטות, ואני רצתי כמו שלא רצית בחיים שלי, פשוט רצנו, נכנסנו לחמ\"ל ואמרו לנו שכולן נוטשות עמדות. הפסקל זה מין מחשב ענק כזה עם עמדה, ואמרו לכולנו לנטוש עמדות ולעמוד מאחורי הפסקלים ולהתחבא, פשוט להתחבא.\\n\\nהצטופפנו שם כולם והתחבאנו, ואז הגיעו כוחות לאבטח אותנו. היתה לנו דלת אחת שלא יכולה להסגר כי המנעול דפוק, צוות ישב עליה, זו כבר סיטואציה מזעזעת, אבל אז הפילו לנו את החשמל ושתי הדלתות חשמליות. ברגע שנפל החשמל שתיהן נפתחות.\\n\\nהיה בהתחלה את הצוות של גולני ומהר מאוד הם נמחקו כולם, פשוט נהרגו אחד אחרי השני. התחילו להביא פצועים לתוך החמ\"ל שלנו, התחלתי לעזור לטפל כמה שאפשר כי ממש פחדתי לצאת מאחורי הפסקלים, אתה מפחד על החיים שלך ברמות, זה קשה גם נפשית.לא אכלנו 26 שעות. לא היה אוכל, בקושי היה מים, חילקנו ממש שלוקים אחרונים בין כולנו. היינו ככה משש וחצי בבוקר עד איזה 23:00. בגלל שנפל לנו החשמל לא היה מזגן, לא היה אוויר, מתנו מחום, השתנתי לתוך כוס ולתוך פח פעמיים, לא היה איפה לעשות פיפי, אנשים חירבנו שם מתוך לחץ, בנות השתינו במכנסים, דברים שאי אפשר לתאר בכלל. אני לא יכולה לתאר כמה פחדתי על החיים שלי בכל שניה שהייתי שם, פחדתי לזוז, פחדתי לשבת, הגוף שלך קורס, לא אכלנו לא שתינו, שום דבר לא הגיוני בכלל. התחבאתי בתוך מגירה, נשכבתי בתוכה, פחדתי על החיים שלי כי הדלתות נפתחו והמחבלים השתלטו על כל החמ\"ל והיו הרבה הרוגים והרבה פצועים צועקים לנו \\'חבר שלי נהרג חבר שלי מת לי בידיים\\', אנשים מגיעים עם פיצוץ של רימון על הפנים, מה שהלך שם היה סרט אחד גדול סרט מזעזע.\\n\\nואז התחיל האזעקה של השריפה ושם הרגשתי שאני הולכת למות כי אם נצא החוצה בחוץ יש מחבלים ואם נשאר בפנים אני מתה מהשריפה. למזלנו הצליחו לכבות אותה. כנראה בנחל עוז הם שרפו את כל החמ״ל ואז לבנות לא היתה שום ברירה זה היה או לצאת או להישאר ולהישרף ואז הן יצאו ואז לא ברור אם חטפו חלק מהן או מה.כל פעם שדפקו לנו בדלת מחבלים, זה היה אחד המפחידים, לא היה איפה להתחבא היינו בפאקינג חדר שהם הכי ניסו להגיע אליו. בפעם השלישית היינו צריכות להתחנן שיגיעו כוחות. כל כך הרבה מחבלים ומלא הרוגים ופצועים, אף אחד לא ידע איך להתנהל, ואצלנו כולן בוכות ובהיסטריה ורוצות הביתה. אני לא יודעת איך שרדתי.\\n\\nהתחילו לירות עלינו מהדלתות, בסוף הצליחו לנטרל אותם אבל גם בחדירה השניה הם עמדו לנו על הגגות של החמ\"ל. התחננו אל הכוחות שיביאו זיק, טיל שמעיף אותם, ובאיזשהו שלב הגנרטור התחיל לעבוד ואז עוד פעם נפל ואז התחלנו להרוג הרבה מחבלים שנסו על נפשם חזרה ופוצצנו אותם. ראינו שגנבו לנו קיטבגים של המדים שלנו וכאלה.\\n\\nניסו להוציא אותנו משם ופחדנו, היו גם טילים כל הזמן אז חיכינו עוד ובסוף עמדנו בטור בזוגות כשמשני הצדדים צוותים של לוחמים שהגנו עלינו והתחילו יריות כשאנחנו מחוץ לחמ\"ל. היינו הכי חשופות, התכופפנו שם, ישבתי על דם של לוחמים כי לא היה איפה לשבת. עד שהגענו לאוטובוס ראינו גופות של אנשים, הרבה מהחברים של התצפיתניות נהרגו, טנקים הפסיקו לעבוד, לא היינו מוכנים לזה בשום צורה. את התצפיתניות הצליחו לחלץ. מהמשקיות ת״ש אני חושבת שאף אחת לא נשארה בחיים.\\n\\nכל רעש עכשיו מלחיץ אותי וכל בום וכל טריקת דלת או מישהו שעושה אפצ\\'י. אני לא חוזרת, אני לא מסוגלת. איך אני חוזרת לחיים שלי, לישון לבד אין מצב, אני לא מסוגלת לעשות שום דבר שבנאדם נורמלי יכול לעשות. זה לא פייר שילדות בגיל שלנו היו צריכות לעבור את זה, ואני בכלל ביום השני שלי שם״.\\n'"
      ]
     },
     "execution_count": 35,
     "metadata": {},
     "output_type": "execute_result"
    }
   ],
   "source": [
    "df['תוכן העדות בכתב (העתק או תמלול)'].iloc[1]"
   ]
  },
  {
   "cell_type": "code",
   "execution_count": 63,
   "id": "fe5db341-81ea-4dd6-a005-52dc1a51dad5",
   "metadata": {},
   "outputs": [],
   "source": [
    "first_testimony = df['תוכן העדות בכתב (העתק או תמלול)'].iloc[1]"
   ]
  },
  {
   "cell_type": "code",
   "execution_count": 64,
   "id": "3a0757a6-7d78-4486-904f-c27a2c6e30ca",
   "metadata": {},
   "outputs": [
    {
     "data": {
      "text/plain": [
       "4022"
      ]
     },
     "execution_count": 64,
     "metadata": {},
     "output_type": "execute_result"
    }
   ],
   "source": [
    "len(first_testimony)"
   ]
  },
  {
   "cell_type": "markdown",
   "id": "b4f2e024-c479-4cdc-9ce0-44340453091c",
   "metadata": {},
   "source": [
    "### data cleanings\n",
    "- '\\n\\n'\n",
    "- \\"
   ]
  },
  {
   "cell_type": "code",
   "execution_count": 65,
   "id": "fae5a0c2-6544-4f05-a01f-9a2ddf80213e",
   "metadata": {},
   "outputs": [],
   "source": [
    "first_testimony = first_testimony.replace('\\n\\n', '. ')\n",
    "first_testimony = first_testimony.replace('\\n', '')\n",
    "first_testimony = first_testimony.replace('״', '')"
   ]
  },
  {
   "cell_type": "code",
   "execution_count": 66,
   "id": "706372de-a42a-4bc9-8214-a4b8baf800ac",
   "metadata": {},
   "outputs": [
    {
     "data": {
      "text/plain": [
       "'התחבאתי בתוך מגירה, פחדתי על החיים שלי: עדות תצפיתית מחמל כיסופים. בדרכה הביתה הקליטה אתמול עבורנו תצפיתנית צעירה, שסיימה את את הקורס רק לפני ארבעה ימים, את מה שעברה ב-7 באוקטובר בחמ\"ל של כיסופים. אזהרה: טקסט קשה לקריאה. \"בשש וחצי היה לי שעון מעורר, הייתי צריכה לקום, ואז התחיל \\'צבע אדום, צבע אדום\\'. לא ידענו מה עושים, כי לא היינו בסיטואציה כזו, אז פשוט רצנו החוצה לגליל כזה מבטון, נכנסנו אליו אבל זה לא הכי מוגן, הבומים שם באמת מטורפים ברמה מוגזמת, שכל בום חשבתי שאני אמות. רקטות נפלו לנו ליד המגורים והרסיסים עפו עלינו וכולן התחילו לבכות, גם הבנות ששם הרבה זמן אמרו שאף פעם זה לא היה ככה חזק. שם זה רק התחיל.. התחילו להגיע הודעות שיש פשיטה, כלומר חדירה של מחבלים לשטח הארץ… לא רק בחמ\"ל שלנו, גם בנחל עוז, ביפתח, ברעים וכרם שלום. בכל קו דיווח נכנסו כמויות של מחבלים ומאצלנו מישהי התחילה לדווח עוד לפני, אבל הכוחות לא הספיקו לבוא לעצור, זה היה כמויות של מחבלים משהו פסיכי. הם התחילו לירות בפסקלים, במצלמות של התצפיות, ואז זה הגיע למצב שאנחנו לא יכולות לתצפת.. אמרו לנו שהברירה היחידה שלנו זה לקחת את הרגליים שלנו ולנוס על נפשנו לחמ\"ל. תוך כדי הצבע האדום, נפלו לידנו רקטות, ואני רצתי כמו שלא רצית בחיים שלי, פשוט רצנו, נכנסנו לחמ\"ל ואמרו לנו שכולן נוטשות עמדות. הפסקל זה מין מחשב ענק כזה עם עמדה, ואמרו לכולנו לנטוש עמדות ולעמוד מאחורי הפסקלים ולהתחבא, פשוט להתחבא.. הצטופפנו שם כולם והתחבאנו, ואז הגיעו כוחות לאבטח אותנו. היתה לנו דלת אחת שלא יכולה להסגר כי המנעול דפוק, צוות ישב עליה, זו כבר סיטואציה מזעזעת, אבל אז הפילו לנו את החשמל ושתי הדלתות חשמליות. ברגע שנפל החשמל שתיהן נפתחות.. היה בהתחלה את הצוות של גולני ומהר מאוד הם נמחקו כולם, פשוט נהרגו אחד אחרי השני. התחילו להביא פצועים לתוך החמ\"ל שלנו, התחלתי לעזור לטפל כמה שאפשר כי ממש פחדתי לצאת מאחורי הפסקלים, אתה מפחד על החיים שלך ברמות, זה קשה גם נפשית.לא אכלנו 26 שעות. לא היה אוכל, בקושי היה מים, חילקנו ממש שלוקים אחרונים בין כולנו. היינו ככה משש וחצי בבוקר עד איזה 23:00. בגלל שנפל לנו החשמל לא היה מזגן, לא היה אוויר, מתנו מחום, השתנתי לתוך כוס ולתוך פח פעמיים, לא היה איפה לעשות פיפי, אנשים חירבנו שם מתוך לחץ, בנות השתינו במכנסים, דברים שאי אפשר לתאר בכלל. אני לא יכולה לתאר כמה פחדתי על החיים שלי בכל שניה שהייתי שם, פחדתי לזוז, פחדתי לשבת, הגוף שלך קורס, לא אכלנו לא שתינו, שום דבר לא הגיוני בכלל. התחבאתי בתוך מגירה, נשכבתי בתוכה, פחדתי על החיים שלי כי הדלתות נפתחו והמחבלים השתלטו על כל החמ\"ל והיו הרבה הרוגים והרבה פצועים צועקים לנו \\'חבר שלי נהרג חבר שלי מת לי בידיים\\', אנשים מגיעים עם פיצוץ של רימון על הפנים, מה שהלך שם היה סרט אחד גדול סרט מזעזע.. ואז התחיל האזעקה של השריפה ושם הרגשתי שאני הולכת למות כי אם נצא החוצה בחוץ יש מחבלים ואם נשאר בפנים אני מתה מהשריפה. למזלנו הצליחו לכבות אותה. כנראה בנחל עוז הם שרפו את כל החמל ואז לבנות לא היתה שום ברירה זה היה או לצאת או להישאר ולהישרף ואז הן יצאו ואז לא ברור אם חטפו חלק מהן או מה.כל פעם שדפקו לנו בדלת מחבלים, זה היה אחד המפחידים, לא היה איפה להתחבא היינו בפאקינג חדר שהם הכי ניסו להגיע אליו. בפעם השלישית היינו צריכות להתחנן שיגיעו כוחות. כל כך הרבה מחבלים ומלא הרוגים ופצועים, אף אחד לא ידע איך להתנהל, ואצלנו כולן בוכות ובהיסטריה ורוצות הביתה. אני לא יודעת איך שרדתי.. התחילו לירות עלינו מהדלתות, בסוף הצליחו לנטרל אותם אבל גם בחדירה השניה הם עמדו לנו על הגגות של החמ\"ל. התחננו אל הכוחות שיביאו זיק, טיל שמעיף אותם, ובאיזשהו שלב הגנרטור התחיל לעבוד ואז עוד פעם נפל ואז התחלנו להרוג הרבה מחבלים שנסו על נפשם חזרה ופוצצנו אותם. ראינו שגנבו לנו קיטבגים של המדים שלנו וכאלה.. ניסו להוציא אותנו משם ופחדנו, היו גם טילים כל הזמן אז חיכינו עוד ובסוף עמדנו בטור בזוגות כשמשני הצדדים צוותים של לוחמים שהגנו עלינו והתחילו יריות כשאנחנו מחוץ לחמ\"ל. היינו הכי חשופות, התכופפנו שם, ישבתי על דם של לוחמים כי לא היה איפה לשבת. עד שהגענו לאוטובוס ראינו גופות של אנשים, הרבה מהחברים של התצפיתניות נהרגו, טנקים הפסיקו לעבוד, לא היינו מוכנים לזה בשום צורה. את התצפיתניות הצליחו לחלץ. מהמשקיות תש אני חושבת שאף אחת לא נשארה בחיים.. כל רעש עכשיו מלחיץ אותי וכל בום וכל טריקת דלת או מישהו שעושה אפצ\\'י. אני לא חוזרת, אני לא מסוגלת. איך אני חוזרת לחיים שלי, לישון לבד אין מצב, אני לא מסוגלת לעשות שום דבר שבנאדם נורמלי יכול לעשות. זה לא פייר שילדות בגיל שלנו היו צריכות לעבור את זה, ואני בכלל ביום השני שלי שם.'"
      ]
     },
     "execution_count": 66,
     "metadata": {},
     "output_type": "execute_result"
    }
   ],
   "source": [
    "first_testimony"
   ]
  },
  {
   "cell_type": "code",
   "execution_count": 67,
   "id": "fe06e395-1aa1-4ba6-8f5f-3da57595b8cf",
   "metadata": {},
   "outputs": [],
   "source": [
    "from transformers import BertTokenizer\n",
    "\n",
    "def truncate_text_to_500_tokens(text):\n",
    "    # Initialize the tokenizer\n",
    "    tokenizer = BertTokenizer.from_pretrained('bert-base-uncased')\n",
    "    \n",
    "    # Tokenize the input text with truncation to 500 tokens\n",
    "    tokens = tokenizer.tokenize(text)\n",
    "    \n",
    "    # Truncate the tokens to 500\n",
    "    truncated_tokens = tokens[:512]\n",
    "    \n",
    "    # Convert tokens back to string\n",
    "    truncated_text = tokenizer.convert_tokens_to_string(truncated_tokens)\n",
    "    \n",
    "    return truncated_text"
   ]
  },
  {
   "cell_type": "code",
   "execution_count": 71,
   "id": "071aed4b-f692-4b35-ba35-7ae1abdfd1b5",
   "metadata": {},
   "outputs": [
    {
     "data": {
      "text/plain": [
       "'התחבאתי בתוך מגירה , פחדתי על החיים שלי : עדות תצפיתית מחמל כיסופים . בדרכה הביתה הקליטה אתמול עבורנו תצפיתנית צעירה , שסיימה את את הקורס רק לפני ארבעה ימים , את מה שעברה ב - 7 באוקטובר בחמ \" ל של כיסופים . אזהרה : טקסט קשה לקריאה . \" בשש וחצי היה לי שעון מעורר , הייתי צריכה לקום , ואז התחיל \\' צבע אדום , צבע אדום \\' . לא ידענו מה עושים , כי לא היינו בסיטואציה כזו , אז פשוט רצנו החוצה לגליל כזה מבטון , נכנסנו אליו אבל זה לא הכי מוגן , הבומים שם באמת מטורפים ברמה מוגזמת , שכל בום חשבתי שאני אמות . רקטות נפלו לנו ליד המגורים והרסיסים עפו עלינו וכולן התחילו לבכות , גם הבנות ששם הרבה זמן אמרו שאף פעם זה לא היה ככה חזק . שם זה רק התחיל . . התחילו להגיע הודע'"
      ]
     },
     "execution_count": 71,
     "metadata": {},
     "output_type": "execute_result"
    }
   ],
   "source": [
    "short_text = truncate_text_to_500_tokens(first_testimony)\n",
    "short_text"
   ]
  },
  {
   "cell_type": "code",
   "execution_count": 72,
   "id": "4b8b4836-f5c2-4579-8388-f817d5cfe43e",
   "metadata": {},
   "outputs": [
    {
     "data": {
      "text/plain": [
       "[{'entity': 'B_DATE',\n",
       "  'score': 0.7711507,\n",
       "  'index': 46,\n",
       "  'word': '7',\n",
       "  'start': 175,\n",
       "  'end': 176},\n",
       " {'entity': 'B_DATE',\n",
       "  'score': 0.75097245,\n",
       "  'index': 47,\n",
       "  'word': 'באוקטובר',\n",
       "  'start': 177,\n",
       "  'end': 185},\n",
       " {'entity': 'B_ORG',\n",
       "  'score': 0.47764704,\n",
       "  'index': 49,\n",
       "  'word': '##מ',\n",
       "  'start': 188,\n",
       "  'end': 189}]"
      ]
     },
     "execution_count": 72,
     "metadata": {},
     "output_type": "execute_result"
    }
   ],
   "source": [
    "NER(short_text)"
   ]
  },
  {
   "cell_type": "code",
   "execution_count": 75,
   "id": "63a40e3c-333f-42a6-bcf7-70b46f4e624b",
   "metadata": {},
   "outputs": [
    {
     "data": {
      "text/plain": [
       "[{'entity': 'B_ORG',\n",
       "  'score': 0.46511105,\n",
       "  'index': 17,\n",
       "  'word': 'מחמ',\n",
       "  'start': 55,\n",
       "  'end': 58},\n",
       " {'entity': 'B_LOC',\n",
       "  'score': 0.45259655,\n",
       "  'index': 19,\n",
       "  'word': 'ירושלים',\n",
       "  'start': 60,\n",
       "  'end': 67},\n",
       " {'entity': 'B_DATE',\n",
       "  'score': 0.76917696,\n",
       "  'index': 45,\n",
       "  'word': '7',\n",
       "  'start': 175,\n",
       "  'end': 176},\n",
       " {'entity': 'B_DATE',\n",
       "  'score': 0.7660807,\n",
       "  'index': 46,\n",
       "  'word': 'באוקטובר',\n",
       "  'start': 177,\n",
       "  'end': 185},\n",
       " {'entity': 'B_LOC',\n",
       "  'score': 0.49722728,\n",
       "  'index': 51,\n",
       "  'word': 'אביב',\n",
       "  'start': 197,\n",
       "  'end': 201}]"
      ]
     },
     "execution_count": 75,
     "metadata": {},
     "output_type": "execute_result"
    }
   ],
   "source": [
    "NER('התחבאתי בתוך מגירה , פחדתי על החיים שלי : עדות תצפיתית מחמל ירושלים . בדרכה הביתה הקליטה אתמול עבורנו תצפיתנית צעירה , שסיימה את את הקורס רק לפני ארבעה ימים , את מה שעברה ב - 7 באוקטובר בחמל של תל אביב . אזהרה : טקסט קשה לקריאה . \" בשש וחצי היה לי שעון מעורר , הייתי צריכה לקום , ואז התחיל \\' צבע אדום , צבע אדום \\' . לא ידענו מה עושים , כי לא היינו בסיטואציה כזו , אז פשוט רצנו החוצה לגליל כזה מבטון , נכנסנו אליו אבל זה לא הכי מוגן , הבומים שם באמת מטורפים ברמה מוגזמת , שכל בום חשבתי שאני אמות . רקטות נפלו לנו ליד המגורים והרסיסים עפו עלינו וכולן התחילו לבכות , גם הבנות ששם הרבה זמן אמרו שאף פעם זה לא היה ככה חזק . שם זה רק התחיל . . התחילו להגיע הודע')"
   ]
  },
  {
   "cell_type": "code",
   "execution_count": 82,
   "id": "fd08ae29-5396-49a5-8ff8-b4df4e1bd958",
   "metadata": {},
   "outputs": [],
   "source": [
    "# ! pip install spacy\n",
    "# https://github.com/IAHLT/UD_Hebrew-IAHLTwiki\n"
   ]
  },
  {
   "cell_type": "code",
   "execution_count": 85,
   "id": "66087a32-d281-4183-a3df-29b206f7bac5",
   "metadata": {},
   "outputs": [],
   "source": [
    "# ! pip install https://github.com/8400TheHealthNetwork/HebSpacy/releases/download/he_ner_news_trf-3.2.1/he_ner_news_trf-3.2.1-py3-none-any.whl\n",
    "\n"
   ]
  },
  {
   "cell_type": "code",
   "execution_count": 92,
   "id": "997fdddc-2643-4781-b032-cfccf8f50792",
   "metadata": {},
   "outputs": [
    {
     "ename": "ValueError",
     "evalue": "[E002] Can't find factory for 'transformer' for language Hebrew (he). This usually happens when spaCy calls `nlp.create_pipe` with a custom component name that's not registered on the current language class. If you're using a custom component, make sure you've added the decorator `@Language.component` (for function components) or `@Language.factory` (for class components).\n\nAvailable factories: attribute_ruler, tok2vec, merge_noun_chunks, merge_entities, merge_subtokens, token_splitter, doc_cleaner, parser, beam_parser, lemmatizer, trainable_lemmatizer, entity_linker, entity_ruler, tagger, morphologizer, ner, beam_ner, senter, sentencizer, spancat, spancat_singlelabel, span_finder, future_entity_ruler, span_ruler, textcat, textcat_multilabel",
     "output_type": "error",
     "traceback": [
      "\u001b[0;31m---------------------------------------------------------------------------\u001b[0m",
      "\u001b[0;31mValueError\u001b[0m                                Traceback (most recent call last)",
      "Cell \u001b[0;32mIn[92], line 1\u001b[0m\n\u001b[0;32m----> 1\u001b[0m nlp \u001b[38;5;241m=\u001b[39m \u001b[43mspacy\u001b[49m\u001b[38;5;241;43m.\u001b[39;49m\u001b[43mload\u001b[49m\u001b[43m(\u001b[49m\u001b[38;5;124;43m\"\u001b[39;49m\u001b[38;5;124;43mhe_ner_news_trf\u001b[39;49m\u001b[38;5;124;43m\"\u001b[39;49m\u001b[43m)\u001b[49m\n",
      "File \u001b[0;32m~/miniconda3/envs/archive/lib/python3.8/site-packages/spacy/__init__.py:51\u001b[0m, in \u001b[0;36mload\u001b[0;34m(name, vocab, disable, enable, exclude, config)\u001b[0m\n\u001b[1;32m     27\u001b[0m \u001b[38;5;28;01mdef\u001b[39;00m \u001b[38;5;21mload\u001b[39m(\n\u001b[1;32m     28\u001b[0m     name: Union[\u001b[38;5;28mstr\u001b[39m, Path],\n\u001b[1;32m     29\u001b[0m     \u001b[38;5;241m*\u001b[39m,\n\u001b[0;32m   (...)\u001b[0m\n\u001b[1;32m     34\u001b[0m     config: Union[Dict[\u001b[38;5;28mstr\u001b[39m, Any], Config] \u001b[38;5;241m=\u001b[39m util\u001b[38;5;241m.\u001b[39mSimpleFrozenDict(),\n\u001b[1;32m     35\u001b[0m ) \u001b[38;5;241m-\u001b[39m\u001b[38;5;241m>\u001b[39m Language:\n\u001b[1;32m     36\u001b[0m \u001b[38;5;250m    \u001b[39m\u001b[38;5;124;03m\"\"\"Load a spaCy model from an installed package or a local path.\u001b[39;00m\n\u001b[1;32m     37\u001b[0m \n\u001b[1;32m     38\u001b[0m \u001b[38;5;124;03m    name (str): Package name or model path.\u001b[39;00m\n\u001b[0;32m   (...)\u001b[0m\n\u001b[1;32m     49\u001b[0m \u001b[38;5;124;03m    RETURNS (Language): The loaded nlp object.\u001b[39;00m\n\u001b[1;32m     50\u001b[0m \u001b[38;5;124;03m    \"\"\"\u001b[39;00m\n\u001b[0;32m---> 51\u001b[0m     \u001b[38;5;28;01mreturn\u001b[39;00m \u001b[43mutil\u001b[49m\u001b[38;5;241;43m.\u001b[39;49m\u001b[43mload_model\u001b[49m\u001b[43m(\u001b[49m\n\u001b[1;32m     52\u001b[0m \u001b[43m        \u001b[49m\u001b[43mname\u001b[49m\u001b[43m,\u001b[49m\n\u001b[1;32m     53\u001b[0m \u001b[43m        \u001b[49m\u001b[43mvocab\u001b[49m\u001b[38;5;241;43m=\u001b[39;49m\u001b[43mvocab\u001b[49m\u001b[43m,\u001b[49m\n\u001b[1;32m     54\u001b[0m \u001b[43m        \u001b[49m\u001b[43mdisable\u001b[49m\u001b[38;5;241;43m=\u001b[39;49m\u001b[43mdisable\u001b[49m\u001b[43m,\u001b[49m\n\u001b[1;32m     55\u001b[0m \u001b[43m        \u001b[49m\u001b[43menable\u001b[49m\u001b[38;5;241;43m=\u001b[39;49m\u001b[43menable\u001b[49m\u001b[43m,\u001b[49m\n\u001b[1;32m     56\u001b[0m \u001b[43m        \u001b[49m\u001b[43mexclude\u001b[49m\u001b[38;5;241;43m=\u001b[39;49m\u001b[43mexclude\u001b[49m\u001b[43m,\u001b[49m\n\u001b[1;32m     57\u001b[0m \u001b[43m        \u001b[49m\u001b[43mconfig\u001b[49m\u001b[38;5;241;43m=\u001b[39;49m\u001b[43mconfig\u001b[49m\u001b[43m,\u001b[49m\n\u001b[1;32m     58\u001b[0m \u001b[43m    \u001b[49m\u001b[43m)\u001b[49m\n",
      "File \u001b[0;32m~/miniconda3/envs/archive/lib/python3.8/site-packages/spacy/util.py:465\u001b[0m, in \u001b[0;36mload_model\u001b[0;34m(name, vocab, disable, enable, exclude, config)\u001b[0m\n\u001b[1;32m    456\u001b[0m \u001b[38;5;28;01mdef\u001b[39;00m \u001b[38;5;21mload_model_from_path\u001b[39m(\n\u001b[1;32m    457\u001b[0m     model_path: Path,\n\u001b[1;32m    458\u001b[0m     \u001b[38;5;241m*\u001b[39m,\n\u001b[0;32m   (...)\u001b[0m\n\u001b[1;32m    463\u001b[0m     config: Union[Dict[\u001b[38;5;28mstr\u001b[39m, Any], Config] \u001b[38;5;241m=\u001b[39m SimpleFrozenDict(),\n\u001b[1;32m    464\u001b[0m ) \u001b[38;5;241m-\u001b[39m\u001b[38;5;241m>\u001b[39m \u001b[38;5;124m\"\u001b[39m\u001b[38;5;124mLanguage\u001b[39m\u001b[38;5;124m\"\u001b[39m:\n\u001b[0;32m--> 465\u001b[0m \u001b[38;5;250m    \u001b[39m\u001b[38;5;124;03m\"\"\"Load a model from a data directory path. Creates Language class with\u001b[39;00m\n\u001b[1;32m    466\u001b[0m \u001b[38;5;124;03m    pipeline from config.cfg and then calls from_disk() with path.\u001b[39;00m\n\u001b[1;32m    467\u001b[0m \n\u001b[1;32m    468\u001b[0m \u001b[38;5;124;03m    model_path (Path): Model path.\u001b[39;00m\n\u001b[1;32m    469\u001b[0m \u001b[38;5;124;03m    meta (Dict[str, Any]): Optional model meta.\u001b[39;00m\n\u001b[1;32m    470\u001b[0m \u001b[38;5;124;03m    vocab (Vocab / True): Optional vocab to pass in on initialization. If True,\u001b[39;00m\n\u001b[1;32m    471\u001b[0m \u001b[38;5;124;03m        a new Vocab object will be created.\u001b[39;00m\n\u001b[1;32m    472\u001b[0m \u001b[38;5;124;03m    disable (Iterable[str]): Names of pipeline components to disable. Disabled\u001b[39;00m\n\u001b[1;32m    473\u001b[0m \u001b[38;5;124;03m        pipes will be loaded but they won't be run unless you explicitly\u001b[39;00m\n\u001b[1;32m    474\u001b[0m \u001b[38;5;124;03m        enable them by calling nlp.enable_pipe.\u001b[39;00m\n\u001b[1;32m    475\u001b[0m \u001b[38;5;124;03m    exclude (Iterable[str]): Names of pipeline components to exclude. Excluded\u001b[39;00m\n\u001b[1;32m    476\u001b[0m \u001b[38;5;124;03m        components won't be loaded.\u001b[39;00m\n\u001b[1;32m    477\u001b[0m \u001b[38;5;124;03m    config (Dict[str, Any] / Config): Config overrides as nested dict or dict\u001b[39;00m\n\u001b[1;32m    478\u001b[0m \u001b[38;5;124;03m        keyed by section values in dot notation.\u001b[39;00m\n\u001b[1;32m    479\u001b[0m \u001b[38;5;124;03m    RETURNS (Language): The loaded nlp object.\u001b[39;00m\n\u001b[1;32m    480\u001b[0m \u001b[38;5;124;03m    \"\"\"\u001b[39;00m\n\u001b[1;32m    481\u001b[0m     \u001b[38;5;28;01mif\u001b[39;00m \u001b[38;5;129;01mnot\u001b[39;00m model_path\u001b[38;5;241m.\u001b[39mexists():\n\u001b[1;32m    482\u001b[0m         \u001b[38;5;28;01mraise\u001b[39;00m \u001b[38;5;167;01mIOError\u001b[39;00m(Errors\u001b[38;5;241m.\u001b[39mE052\u001b[38;5;241m.\u001b[39mformat(path\u001b[38;5;241m=\u001b[39mmodel_path))\n",
      "File \u001b[0;32m~/miniconda3/envs/archive/lib/python3.8/site-packages/spacy/util.py:501\u001b[0m, in \u001b[0;36mload_model_from_package\u001b[0;34m(name, vocab, disable, enable, exclude, config)\u001b[0m\n\u001b[1;32m    492\u001b[0m \u001b[38;5;28;01mdef\u001b[39;00m \u001b[38;5;21mload_model_from_config\u001b[39m(\n\u001b[1;32m    493\u001b[0m     config: Union[Dict[\u001b[38;5;28mstr\u001b[39m, Any], Config],\n\u001b[1;32m    494\u001b[0m     \u001b[38;5;241m*\u001b[39m,\n\u001b[0;32m   (...)\u001b[0m\n\u001b[1;32m    499\u001b[0m     validate: \u001b[38;5;28mbool\u001b[39m \u001b[38;5;241m=\u001b[39m \u001b[38;5;28;01mTrue\u001b[39;00m,\n\u001b[1;32m    500\u001b[0m ) \u001b[38;5;241m-\u001b[39m\u001b[38;5;241m>\u001b[39m \u001b[38;5;124m\"\u001b[39m\u001b[38;5;124mLanguage\u001b[39m\u001b[38;5;124m\"\u001b[39m:\n\u001b[0;32m--> 501\u001b[0m \u001b[38;5;250m    \u001b[39m\u001b[38;5;124;03m\"\"\"Create an nlp object from a config. Expects the full config file including\u001b[39;00m\n\u001b[1;32m    502\u001b[0m \u001b[38;5;124;03m    a section \"nlp\" containing the settings for the nlp object.\u001b[39;00m\n\u001b[1;32m    503\u001b[0m \n\u001b[1;32m    504\u001b[0m \u001b[38;5;124;03m    name (str): Package name or model path.\u001b[39;00m\n\u001b[1;32m    505\u001b[0m \u001b[38;5;124;03m    meta (Dict[str, Any]): Optional model meta.\u001b[39;00m\n\u001b[1;32m    506\u001b[0m \u001b[38;5;124;03m    vocab (Vocab / True): Optional vocab to pass in on initialization. If True,\u001b[39;00m\n\u001b[1;32m    507\u001b[0m \u001b[38;5;124;03m        a new Vocab object will be created.\u001b[39;00m\n\u001b[1;32m    508\u001b[0m \u001b[38;5;124;03m    disable (Iterable[str]): Names of pipeline components to disable. Disabled\u001b[39;00m\n\u001b[1;32m    509\u001b[0m \u001b[38;5;124;03m        pipes will be loaded but they won't be run unless you explicitly\u001b[39;00m\n\u001b[1;32m    510\u001b[0m \u001b[38;5;124;03m        enable them by calling nlp.enable_pipe.\u001b[39;00m\n\u001b[1;32m    511\u001b[0m \u001b[38;5;124;03m    exclude (Iterable[str]): Names of pipeline components to exclude. Excluded\u001b[39;00m\n\u001b[1;32m    512\u001b[0m \u001b[38;5;124;03m        components won't be loaded.\u001b[39;00m\n\u001b[1;32m    513\u001b[0m \u001b[38;5;124;03m    auto_fill (bool): Whether to auto-fill config with missing defaults.\u001b[39;00m\n\u001b[1;32m    514\u001b[0m \u001b[38;5;124;03m    validate (bool): Whether to show config validation errors.\u001b[39;00m\n\u001b[1;32m    515\u001b[0m \u001b[38;5;124;03m    RETURNS (Language): The loaded nlp object.\u001b[39;00m\n\u001b[1;32m    516\u001b[0m \u001b[38;5;124;03m    \"\"\"\u001b[39;00m\n\u001b[1;32m    517\u001b[0m     \u001b[38;5;28;01mif\u001b[39;00m \u001b[38;5;124m\"\u001b[39m\u001b[38;5;124mnlp\u001b[39m\u001b[38;5;124m\"\u001b[39m \u001b[38;5;129;01mnot\u001b[39;00m \u001b[38;5;129;01min\u001b[39;00m config:\n\u001b[1;32m    518\u001b[0m         \u001b[38;5;28;01mraise\u001b[39;00m \u001b[38;5;167;01mValueError\u001b[39;00m(Errors\u001b[38;5;241m.\u001b[39mE985\u001b[38;5;241m.\u001b[39mformat(config\u001b[38;5;241m=\u001b[39mconfig))\n",
      "File \u001b[0;32m~/miniconda3/envs/archive/lib/python3.8/site-packages/he_ner_news_trf/__init__.py:10\u001b[0m, in \u001b[0;36mload\u001b[0;34m(**overrides)\u001b[0m\n\u001b[1;32m      9\u001b[0m \u001b[38;5;28;01mdef\u001b[39;00m \u001b[38;5;21mload\u001b[39m(\u001b[38;5;241m*\u001b[39m\u001b[38;5;241m*\u001b[39moverrides):\n\u001b[0;32m---> 10\u001b[0m     \u001b[38;5;28;01mreturn\u001b[39;00m \u001b[43mload_model_from_init_py\u001b[49m\u001b[43m(\u001b[49m\u001b[38;5;18;43m__file__\u001b[39;49m\u001b[43m,\u001b[49m\u001b[43m \u001b[49m\u001b[38;5;241;43m*\u001b[39;49m\u001b[38;5;241;43m*\u001b[39;49m\u001b[43moverrides\u001b[49m\u001b[43m)\u001b[49m\n",
      "File \u001b[0;32m~/miniconda3/envs/archive/lib/python3.8/site-packages/spacy/util.py:682\u001b[0m, in \u001b[0;36mload_model_from_init_py\u001b[0;34m(init_file, vocab, disable, enable, exclude, config)\u001b[0m\n\u001b[1;32m    675\u001b[0m \u001b[38;5;250m\u001b[39m\u001b[38;5;124;03m\"\"\"Get the version of an installed package. Typically used to get model\u001b[39;00m\n\u001b[1;32m    676\u001b[0m \u001b[38;5;124;03mpackage versions.\u001b[39;00m\n\u001b[1;32m    677\u001b[0m \n\u001b[1;32m    678\u001b[0m \u001b[38;5;124;03mname (str): The name of the installed Python package.\u001b[39;00m\n\u001b[1;32m    679\u001b[0m \u001b[38;5;124;03mRETURNS (str / None): The version or None if package not installed.\u001b[39;00m\n\u001b[1;32m    680\u001b[0m \u001b[38;5;124;03m\"\"\"\u001b[39;00m\n\u001b[1;32m    681\u001b[0m \u001b[38;5;28;01mtry\u001b[39;00m:\n\u001b[0;32m--> 682\u001b[0m     \u001b[38;5;28;01mreturn\u001b[39;00m importlib_metadata\u001b[38;5;241m.\u001b[39mversion(name)  \u001b[38;5;66;03m# type: ignore[attr-defined]\u001b[39;00m\n\u001b[1;32m    683\u001b[0m \u001b[38;5;28;01mexcept\u001b[39;00m importlib_metadata\u001b[38;5;241m.\u001b[39mPackageNotFoundError:  \u001b[38;5;66;03m# type: ignore[attr-defined]\u001b[39;00m\n\u001b[1;32m    684\u001b[0m     \u001b[38;5;28;01mreturn\u001b[39;00m \u001b[38;5;28;01mNone\u001b[39;00m\n",
      "File \u001b[0;32m~/miniconda3/envs/archive/lib/python3.8/site-packages/spacy/util.py:539\u001b[0m, in \u001b[0;36mload_model_from_path\u001b[0;34m(model_path, meta, vocab, disable, enable, exclude, config)\u001b[0m\n\u001b[1;32m    536\u001b[0m \u001b[38;5;28;01mdef\u001b[39;00m \u001b[38;5;21mget_sourced_components\u001b[39m(\n\u001b[1;32m    537\u001b[0m     config: Union[Dict[\u001b[38;5;28mstr\u001b[39m, Any], Config]\n\u001b[1;32m    538\u001b[0m ) \u001b[38;5;241m-\u001b[39m\u001b[38;5;241m>\u001b[39m Dict[\u001b[38;5;28mstr\u001b[39m, Dict[\u001b[38;5;28mstr\u001b[39m, Any]]:\n\u001b[0;32m--> 539\u001b[0m \u001b[38;5;250m    \u001b[39m\u001b[38;5;124;03m\"\"\"RETURNS (List[str]): All sourced components in the original config,\u001b[39;00m\n\u001b[1;32m    540\u001b[0m \u001b[38;5;124;03m    e.g. {\"source\": \"en_core_web_sm\"}. If the config contains a key\u001b[39;00m\n\u001b[1;32m    541\u001b[0m \u001b[38;5;124;03m    \"factory\", we assume it refers to a component factory.\u001b[39;00m\n\u001b[1;32m    542\u001b[0m \u001b[38;5;124;03m    \"\"\"\u001b[39;00m\n\u001b[1;32m    543\u001b[0m     \u001b[38;5;28;01mreturn\u001b[39;00m {\n\u001b[1;32m    544\u001b[0m         name: cfg\n\u001b[1;32m    545\u001b[0m         \u001b[38;5;28;01mfor\u001b[39;00m name, cfg \u001b[38;5;129;01min\u001b[39;00m config\u001b[38;5;241m.\u001b[39mget(\u001b[38;5;124m\"\u001b[39m\u001b[38;5;124mcomponents\u001b[39m\u001b[38;5;124m\"\u001b[39m, {})\u001b[38;5;241m.\u001b[39mitems()\n\u001b[1;32m    546\u001b[0m         \u001b[38;5;28;01mif\u001b[39;00m \u001b[38;5;124m\"\u001b[39m\u001b[38;5;124mfactory\u001b[39m\u001b[38;5;124m\"\u001b[39m \u001b[38;5;129;01mnot\u001b[39;00m \u001b[38;5;129;01min\u001b[39;00m cfg \u001b[38;5;129;01mand\u001b[39;00m \u001b[38;5;124m\"\u001b[39m\u001b[38;5;124msource\u001b[39m\u001b[38;5;124m\"\u001b[39m \u001b[38;5;129;01min\u001b[39;00m cfg\n\u001b[1;32m    547\u001b[0m     }\n",
      "File \u001b[0;32m~/miniconda3/envs/archive/lib/python3.8/site-packages/spacy/util.py:587\u001b[0m, in \u001b[0;36mload_model_from_config\u001b[0;34m(config, meta, vocab, disable, enable, exclude, auto_fill, validate)\u001b[0m\n\u001b[1;32m    583\u001b[0m         \u001b[38;5;28;01mraise\u001b[39;00m ConfigValidationError(config\u001b[38;5;241m=\u001b[39mconfig, errors\u001b[38;5;241m=\u001b[39merrors)\n\u001b[1;32m    584\u001b[0m     \u001b[38;5;28;01mreturn\u001b[39;00m \u001b[38;5;28mtuple\u001b[39m(output)\n\u001b[0;32m--> 587\u001b[0m \u001b[38;5;28;01mdef\u001b[39;00m \u001b[38;5;21mload_model_from_init_py\u001b[39m(\n\u001b[1;32m    588\u001b[0m     init_file: Union[Path, \u001b[38;5;28mstr\u001b[39m],\n\u001b[1;32m    589\u001b[0m     \u001b[38;5;241m*\u001b[39m,\n\u001b[1;32m    590\u001b[0m     vocab: Union[\u001b[38;5;124m\"\u001b[39m\u001b[38;5;124mVocab\u001b[39m\u001b[38;5;124m\"\u001b[39m, \u001b[38;5;28mbool\u001b[39m] \u001b[38;5;241m=\u001b[39m \u001b[38;5;28;01mTrue\u001b[39;00m,\n\u001b[1;32m    591\u001b[0m     disable: Iterable[\u001b[38;5;28mstr\u001b[39m] \u001b[38;5;241m=\u001b[39m SimpleFrozenList(),\n\u001b[1;32m    592\u001b[0m     exclude: Iterable[\u001b[38;5;28mstr\u001b[39m] \u001b[38;5;241m=\u001b[39m SimpleFrozenList(),\n\u001b[1;32m    593\u001b[0m     config: Union[Dict[\u001b[38;5;28mstr\u001b[39m, Any], Config] \u001b[38;5;241m=\u001b[39m SimpleFrozenDict(),\n\u001b[1;32m    594\u001b[0m ) \u001b[38;5;241m-\u001b[39m\u001b[38;5;241m>\u001b[39m \u001b[38;5;124m\"\u001b[39m\u001b[38;5;124mLanguage\u001b[39m\u001b[38;5;124m\"\u001b[39m:\n\u001b[1;32m    595\u001b[0m \u001b[38;5;250m    \u001b[39m\u001b[38;5;124;03m\"\"\"Helper function to use in the `load()` method of a model package's\u001b[39;00m\n\u001b[1;32m    596\u001b[0m \u001b[38;5;124;03m    __init__.py.\u001b[39;00m\n\u001b[1;32m    597\u001b[0m \n\u001b[0;32m   (...)\u001b[0m\n\u001b[1;32m    607\u001b[0m \u001b[38;5;124;03m    RETURNS (Language): The loaded nlp object.\u001b[39;00m\n\u001b[1;32m    608\u001b[0m \u001b[38;5;124;03m    \"\"\"\u001b[39;00m\n\u001b[1;32m    609\u001b[0m     model_path \u001b[38;5;241m=\u001b[39m Path(init_file)\u001b[38;5;241m.\u001b[39mparent\n",
      "File \u001b[0;32m~/miniconda3/envs/archive/lib/python3.8/site-packages/spacy/language.py:1889\u001b[0m, in \u001b[0;36mfrom_config\u001b[0;34m(cls, config, vocab, disable, enable, exclude, meta, auto_fill, validate)\u001b[0m\n\u001b[1;32m   1870\u001b[0m \u001b[38;5;28;01mdef\u001b[39;00m \u001b[38;5;21mreplace_listeners\u001b[39m(\n\u001b[1;32m   1871\u001b[0m     \u001b[38;5;28mself\u001b[39m,\n\u001b[1;32m   1872\u001b[0m     tok2vec_name: \u001b[38;5;28mstr\u001b[39m,\n\u001b[1;32m   1873\u001b[0m     pipe_name: \u001b[38;5;28mstr\u001b[39m,\n\u001b[1;32m   1874\u001b[0m     listeners: Iterable[\u001b[38;5;28mstr\u001b[39m],\n\u001b[1;32m   1875\u001b[0m ) \u001b[38;5;241m-\u001b[39m\u001b[38;5;241m>\u001b[39m \u001b[38;5;28;01mNone\u001b[39;00m:\n\u001b[1;32m   1876\u001b[0m \u001b[38;5;250m    \u001b[39m\u001b[38;5;124;03m\"\"\"Find listener layers (connecting to a token-to-vector embedding\u001b[39;00m\n\u001b[1;32m   1877\u001b[0m \u001b[38;5;124;03m    component) of a given pipeline component model and replace\u001b[39;00m\n\u001b[1;32m   1878\u001b[0m \u001b[38;5;124;03m    them with a standalone copy of the token-to-vector layer. This can be\u001b[39;00m\n\u001b[1;32m   1879\u001b[0m \u001b[38;5;124;03m    useful when training a pipeline with components sourced from an existing\u001b[39;00m\n\u001b[1;32m   1880\u001b[0m \u001b[38;5;124;03m    pipeline: if multiple components (e.g. tagger, parser, NER) listen to\u001b[39;00m\n\u001b[1;32m   1881\u001b[0m \u001b[38;5;124;03m    the same tok2vec component, but some of them are frozen and not updated,\u001b[39;00m\n\u001b[1;32m   1882\u001b[0m \u001b[38;5;124;03m    their performance may degrade significally as the tok2vec component is\u001b[39;00m\n\u001b[1;32m   1883\u001b[0m \u001b[38;5;124;03m    updated with new data. To prevent this, listeners can be replaced with\u001b[39;00m\n\u001b[1;32m   1884\u001b[0m \u001b[38;5;124;03m    a standalone tok2vec layer that is owned by the component and doesn't\u001b[39;00m\n\u001b[1;32m   1885\u001b[0m \u001b[38;5;124;03m    change if the component isn't updated.\u001b[39;00m\n\u001b[1;32m   1886\u001b[0m \n\u001b[1;32m   1887\u001b[0m \u001b[38;5;124;03m    tok2vec_name (str): Name of the token-to-vector component, typically\u001b[39;00m\n\u001b[1;32m   1888\u001b[0m \u001b[38;5;124;03m        \"tok2vec\" or \"transformer\".\u001b[39;00m\n\u001b[0;32m-> 1889\u001b[0m \u001b[38;5;124;03m    pipe_name (str): Name of pipeline component to replace listeners for.\u001b[39;00m\n\u001b[1;32m   1890\u001b[0m \u001b[38;5;124;03m    listeners (Iterable[str]): The paths to the listeners, relative to the\u001b[39;00m\n\u001b[1;32m   1891\u001b[0m \u001b[38;5;124;03m        component config, e.g. [\"model.tok2vec\"]. Typically, implementations\u001b[39;00m\n\u001b[1;32m   1892\u001b[0m \u001b[38;5;124;03m        will only connect to one tok2vec component, [model.tok2vec], but in\u001b[39;00m\n\u001b[1;32m   1893\u001b[0m \u001b[38;5;124;03m        theory, custom models can use multiple listeners. The value here can\u001b[39;00m\n\u001b[1;32m   1894\u001b[0m \u001b[38;5;124;03m        either be an empty list to not replace any listeners, or a complete\u001b[39;00m\n\u001b[1;32m   1895\u001b[0m \u001b[38;5;124;03m        (!) list of the paths to all listener layers used by the model.\u001b[39;00m\n\u001b[1;32m   1896\u001b[0m \n\u001b[1;32m   1897\u001b[0m \u001b[38;5;124;03m    DOCS: https://spacy.io/api/language#replace_listeners\u001b[39;00m\n\u001b[1;32m   1898\u001b[0m \u001b[38;5;124;03m    \"\"\"\u001b[39;00m\n\u001b[1;32m   1899\u001b[0m     \u001b[38;5;28;01mif\u001b[39;00m tok2vec_name \u001b[38;5;129;01mnot\u001b[39;00m \u001b[38;5;129;01min\u001b[39;00m \u001b[38;5;28mself\u001b[39m\u001b[38;5;241m.\u001b[39mpipe_names:\n\u001b[1;32m   1900\u001b[0m         err \u001b[38;5;241m=\u001b[39m Errors\u001b[38;5;241m.\u001b[39mE889\u001b[38;5;241m.\u001b[39mformat(\n\u001b[1;32m   1901\u001b[0m             tok2vec\u001b[38;5;241m=\u001b[39mtok2vec_name,\n\u001b[1;32m   1902\u001b[0m             name\u001b[38;5;241m=\u001b[39mpipe_name,\n\u001b[1;32m   1903\u001b[0m             unknown\u001b[38;5;241m=\u001b[39mtok2vec_name,\n\u001b[1;32m   1904\u001b[0m             opts\u001b[38;5;241m=\u001b[39m\u001b[38;5;124m\"\u001b[39m\u001b[38;5;124m, \u001b[39m\u001b[38;5;124m\"\u001b[39m\u001b[38;5;241m.\u001b[39mjoin(\u001b[38;5;28mself\u001b[39m\u001b[38;5;241m.\u001b[39mpipe_names),\n\u001b[1;32m   1905\u001b[0m         )\n",
      "File \u001b[0;32m~/miniconda3/envs/archive/lib/python3.8/site-packages/spacy/language.py:821\u001b[0m, in \u001b[0;36madd_pipe\u001b[0;34m(self, factory_name, name, before, after, first, last, source, config, raw_config, validate)\u001b[0m\n\u001b[1;32m    811\u001b[0m \u001b[38;5;250m\u001b[39m\u001b[38;5;124;03m\"\"\"Determine where to insert a pipeline component based on the before/\u001b[39;00m\n\u001b[1;32m    812\u001b[0m \u001b[38;5;124;03mafter/first/last values.\u001b[39;00m\n\u001b[1;32m    813\u001b[0m \n\u001b[0;32m   (...)\u001b[0m\n\u001b[1;32m    818\u001b[0m \u001b[38;5;124;03mRETURNS (int): The index of the new pipeline component.\u001b[39;00m\n\u001b[1;32m    819\u001b[0m \u001b[38;5;124;03m\"\"\"\u001b[39;00m\n\u001b[1;32m    820\u001b[0m all_args \u001b[38;5;241m=\u001b[39m {\u001b[38;5;124m\"\u001b[39m\u001b[38;5;124mbefore\u001b[39m\u001b[38;5;124m\"\u001b[39m: before, \u001b[38;5;124m\"\u001b[39m\u001b[38;5;124mafter\u001b[39m\u001b[38;5;124m\"\u001b[39m: after, \u001b[38;5;124m\"\u001b[39m\u001b[38;5;124mfirst\u001b[39m\u001b[38;5;124m\"\u001b[39m: first, \u001b[38;5;124m\"\u001b[39m\u001b[38;5;124mlast\u001b[39m\u001b[38;5;124m\"\u001b[39m: last}\n\u001b[0;32m--> 821\u001b[0m \u001b[38;5;28;01mif\u001b[39;00m \u001b[38;5;28msum\u001b[39m(arg \u001b[38;5;129;01mis\u001b[39;00m \u001b[38;5;129;01mnot\u001b[39;00m \u001b[38;5;28;01mNone\u001b[39;00m \u001b[38;5;28;01mfor\u001b[39;00m arg \u001b[38;5;129;01min\u001b[39;00m [before, after, first, last]) \u001b[38;5;241m>\u001b[39m\u001b[38;5;241m=\u001b[39m \u001b[38;5;241m2\u001b[39m:\n\u001b[1;32m    822\u001b[0m     \u001b[38;5;28;01mraise\u001b[39;00m \u001b[38;5;167;01mValueError\u001b[39;00m(\n\u001b[1;32m    823\u001b[0m         Errors\u001b[38;5;241m.\u001b[39mE006\u001b[38;5;241m.\u001b[39mformat(args\u001b[38;5;241m=\u001b[39mall_args, opts\u001b[38;5;241m=\u001b[39m\u001b[38;5;28mself\u001b[39m\u001b[38;5;241m.\u001b[39mcomponent_names)\n\u001b[1;32m    824\u001b[0m     )\n\u001b[1;32m    825\u001b[0m \u001b[38;5;28;01mif\u001b[39;00m last \u001b[38;5;129;01mor\u001b[39;00m \u001b[38;5;129;01mnot\u001b[39;00m \u001b[38;5;28many\u001b[39m(value \u001b[38;5;129;01mis\u001b[39;00m \u001b[38;5;129;01mnot\u001b[39;00m \u001b[38;5;28;01mNone\u001b[39;00m \u001b[38;5;28;01mfor\u001b[39;00m value \u001b[38;5;129;01min\u001b[39;00m [first, before, after]):\n",
      "File \u001b[0;32m~/miniconda3/envs/archive/lib/python3.8/site-packages/spacy/language.py:690\u001b[0m, in \u001b[0;36mcreate_pipe\u001b[0;34m(self, factory_name, name, config, raw_config, validate)\u001b[0m\n\u001b[1;32m    687\u001b[0m     \u001b[38;5;28mself\u001b[39m\u001b[38;5;241m.\u001b[39m_pipe_configs[name] \u001b[38;5;241m=\u001b[39m filled\n\u001b[1;32m    688\u001b[0m     \u001b[38;5;28;01mreturn\u001b[39;00m resolved[factory_name]\n\u001b[0;32m--> 690\u001b[0m \u001b[38;5;28;01mdef\u001b[39;00m \u001b[38;5;21mcreate_pipe_from_source\u001b[39m(\n\u001b[1;32m    691\u001b[0m     \u001b[38;5;28mself\u001b[39m, source_name: \u001b[38;5;28mstr\u001b[39m, source: \u001b[38;5;124m\"\u001b[39m\u001b[38;5;124mLanguage\u001b[39m\u001b[38;5;124m\"\u001b[39m, \u001b[38;5;241m*\u001b[39m, name: \u001b[38;5;28mstr\u001b[39m\n\u001b[1;32m    692\u001b[0m ) \u001b[38;5;241m-\u001b[39m\u001b[38;5;241m>\u001b[39m Tuple[\u001b[38;5;124m\"\u001b[39m\u001b[38;5;124mPipe\u001b[39m\u001b[38;5;124m\"\u001b[39m, \u001b[38;5;28mstr\u001b[39m]:\n\u001b[1;32m    693\u001b[0m \u001b[38;5;250m    \u001b[39m\u001b[38;5;124;03m\"\"\"Create a pipeline component by copying it from an existing model.\u001b[39;00m\n\u001b[1;32m    694\u001b[0m \n\u001b[1;32m    695\u001b[0m \u001b[38;5;124;03m    source_name (str): Name of the component in the source pipeline.\u001b[39;00m\n\u001b[0;32m   (...)\u001b[0m\n\u001b[1;32m    698\u001b[0m \u001b[38;5;124;03m    RETURNS (Tuple[Callable, str]): The component and its factory name.\u001b[39;00m\n\u001b[1;32m    699\u001b[0m \u001b[38;5;124;03m    \"\"\"\u001b[39;00m\n\u001b[1;32m    700\u001b[0m     \u001b[38;5;66;03m# Check source type\u001b[39;00m\n",
      "\u001b[0;31mValueError\u001b[0m: [E002] Can't find factory for 'transformer' for language Hebrew (he). This usually happens when spaCy calls `nlp.create_pipe` with a custom component name that's not registered on the current language class. If you're using a custom component, make sure you've added the decorator `@Language.component` (for function components) or `@Language.factory` (for class components).\n\nAvailable factories: attribute_ruler, tok2vec, merge_noun_chunks, merge_entities, merge_subtokens, token_splitter, doc_cleaner, parser, beam_parser, lemmatizer, trainable_lemmatizer, entity_linker, entity_ruler, tagger, morphologizer, ner, beam_ner, senter, sentencizer, spancat, spancat_singlelabel, span_finder, future_entity_ruler, span_ruler, textcat, textcat_multilabel"
     ]
    }
   ],
   "source": [
    "nlp = spacy.load(\"he_ner_news_trf\")\n"
   ]
  },
  {
   "cell_type": "code",
   "execution_count": 90,
   "id": "ff8ebab2-bdf4-4669-9173-b3ec87621b8c",
   "metadata": {},
   "outputs": [
    {
     "name": "stdout",
     "output_type": "stream",
     "text": [
      "Requirement already satisfied: spacy-transformers in /home/mao/miniconda3/envs/archive/lib/python3.8/site-packages (1.1.7)\n",
      "Requirement already satisfied: spacy<4.0.0,>=3.1.3 in /home/mao/miniconda3/envs/archive/lib/python3.8/site-packages (from spacy-transformers) (3.2.2)\n",
      "Requirement already satisfied: transformers<4.21.0,>=3.4.0 in /home/mao/miniconda3/envs/archive/lib/python3.8/site-packages (from spacy-transformers) (4.20.1)\n",
      "Requirement already satisfied: torch>=1.6.0 in /home/mao/miniconda3/envs/archive/lib/python3.8/site-packages (from spacy-transformers) (1.11.0+cu113)\n",
      "Requirement already satisfied: srsly<3.0.0,>=2.4.0 in /home/mao/miniconda3/envs/archive/lib/python3.8/site-packages (from spacy-transformers) (2.4.8)\n",
      "Requirement already satisfied: spacy-alignments<1.0.0,>=0.7.2 in /home/mao/miniconda3/envs/archive/lib/python3.8/site-packages (from spacy-transformers) (0.9.1)\n",
      "Requirement already satisfied: spacy-legacy<3.1.0,>=3.0.8 in /home/mao/miniconda3/envs/archive/lib/python3.8/site-packages (from spacy<4.0.0,>=3.1.3->spacy-transformers) (3.0.12)\n",
      "Requirement already satisfied: spacy-loggers<2.0.0,>=1.0.0 in /home/mao/miniconda3/envs/archive/lib/python3.8/site-packages (from spacy<4.0.0,>=3.1.3->spacy-transformers) (1.0.5)\n",
      "Requirement already satisfied: murmurhash<1.1.0,>=0.28.0 in /home/mao/miniconda3/envs/archive/lib/python3.8/site-packages (from spacy<4.0.0,>=3.1.3->spacy-transformers) (1.0.10)\n",
      "Requirement already satisfied: cymem<2.1.0,>=2.0.2 in /home/mao/miniconda3/envs/archive/lib/python3.8/site-packages (from spacy<4.0.0,>=3.1.3->spacy-transformers) (2.0.8)\n",
      "Requirement already satisfied: preshed<3.1.0,>=3.0.2 in /home/mao/miniconda3/envs/archive/lib/python3.8/site-packages (from spacy<4.0.0,>=3.1.3->spacy-transformers) (3.0.9)\n",
      "Requirement already satisfied: thinc<8.1.0,>=8.0.12 in /home/mao/miniconda3/envs/archive/lib/python3.8/site-packages (from spacy<4.0.0,>=3.1.3->spacy-transformers) (8.0.17)\n",
      "Requirement already satisfied: blis<0.8.0,>=0.4.0 in /home/mao/miniconda3/envs/archive/lib/python3.8/site-packages (from spacy<4.0.0,>=3.1.3->spacy-transformers) (0.7.11)\n",
      "Requirement already satisfied: wasabi<1.1.0,>=0.8.1 in /home/mao/miniconda3/envs/archive/lib/python3.8/site-packages (from spacy<4.0.0,>=3.1.3->spacy-transformers) (0.10.1)\n",
      "Requirement already satisfied: catalogue<2.1.0,>=2.0.6 in /home/mao/miniconda3/envs/archive/lib/python3.8/site-packages (from spacy<4.0.0,>=3.1.3->spacy-transformers) (2.0.10)\n",
      "Requirement already satisfied: typer<0.5.0,>=0.3.0 in /home/mao/miniconda3/envs/archive/lib/python3.8/site-packages (from spacy<4.0.0,>=3.1.3->spacy-transformers) (0.4.2)\n",
      "Requirement already satisfied: pathy>=0.3.5 in /home/mao/miniconda3/envs/archive/lib/python3.8/site-packages (from spacy<4.0.0,>=3.1.3->spacy-transformers) (0.11.0)\n",
      "Requirement already satisfied: tqdm<5.0.0,>=4.38.0 in /home/mao/miniconda3/envs/archive/lib/python3.8/site-packages (from spacy<4.0.0,>=3.1.3->spacy-transformers) (4.66.4)\n",
      "Requirement already satisfied: numpy>=1.15.0 in /home/mao/miniconda3/envs/archive/lib/python3.8/site-packages (from spacy<4.0.0,>=3.1.3->spacy-transformers) (1.19.5)\n",
      "Requirement already satisfied: requests<3.0.0,>=2.13.0 in /home/mao/miniconda3/envs/archive/lib/python3.8/site-packages (from spacy<4.0.0,>=3.1.3->spacy-transformers) (2.31.0)\n",
      "Requirement already satisfied: pydantic!=1.8,!=1.8.1,<1.9.0,>=1.7.4 in /home/mao/miniconda3/envs/archive/lib/python3.8/site-packages (from spacy<4.0.0,>=3.1.3->spacy-transformers) (1.8.2)\n",
      "Requirement already satisfied: jinja2 in /home/mao/miniconda3/envs/archive/lib/python3.8/site-packages (from spacy<4.0.0,>=3.1.3->spacy-transformers) (3.1.4)\n",
      "Requirement already satisfied: setuptools in /home/mao/miniconda3/envs/archive/lib/python3.8/site-packages (from spacy<4.0.0,>=3.1.3->spacy-transformers) (69.5.1)\n",
      "Requirement already satisfied: packaging>=20.0 in /home/mao/miniconda3/envs/archive/lib/python3.8/site-packages (from spacy<4.0.0,>=3.1.3->spacy-transformers) (24.0)\n",
      "Requirement already satisfied: langcodes<4.0.0,>=3.2.0 in /home/mao/miniconda3/envs/archive/lib/python3.8/site-packages (from spacy<4.0.0,>=3.1.3->spacy-transformers) (3.4.0)\n",
      "Requirement already satisfied: typing-extensions in /home/mao/miniconda3/envs/archive/lib/python3.8/site-packages (from torch>=1.6.0->spacy-transformers) (4.11.0)\n",
      "Requirement already satisfied: filelock in /home/mao/miniconda3/envs/archive/lib/python3.8/site-packages (from transformers<4.21.0,>=3.4.0->spacy-transformers) (3.14.0)\n",
      "Requirement already satisfied: huggingface-hub<1.0,>=0.1.0 in /home/mao/miniconda3/envs/archive/lib/python3.8/site-packages (from transformers<4.21.0,>=3.4.0->spacy-transformers) (0.23.0)\n",
      "Requirement already satisfied: pyyaml>=5.1 in /home/mao/miniconda3/envs/archive/lib/python3.8/site-packages (from transformers<4.21.0,>=3.4.0->spacy-transformers) (6.0.1)\n",
      "Requirement already satisfied: regex!=2019.12.17 in /home/mao/miniconda3/envs/archive/lib/python3.8/site-packages (from transformers<4.21.0,>=3.4.0->spacy-transformers) (2024.5.15)\n",
      "Requirement already satisfied: tokenizers!=0.11.3,<0.13,>=0.11.1 in /home/mao/miniconda3/envs/archive/lib/python3.8/site-packages (from transformers<4.21.0,>=3.4.0->spacy-transformers) (0.12.1)\n",
      "Requirement already satisfied: fsspec>=2023.5.0 in /home/mao/miniconda3/envs/archive/lib/python3.8/site-packages (from huggingface-hub<1.0,>=0.1.0->transformers<4.21.0,>=3.4.0->spacy-transformers) (2024.5.0)\n",
      "Requirement already satisfied: language-data>=1.2 in /home/mao/miniconda3/envs/archive/lib/python3.8/site-packages (from langcodes<4.0.0,>=3.2.0->spacy<4.0.0,>=3.1.3->spacy-transformers) (1.2.0)\n",
      "Requirement already satisfied: smart-open<7.0.0,>=5.2.1 in /home/mao/miniconda3/envs/archive/lib/python3.8/site-packages (from pathy>=0.3.5->spacy<4.0.0,>=3.1.3->spacy-transformers) (6.4.0)\n",
      "Requirement already satisfied: pathlib-abc==0.1.1 in /home/mao/miniconda3/envs/archive/lib/python3.8/site-packages (from pathy>=0.3.5->spacy<4.0.0,>=3.1.3->spacy-transformers) (0.1.1)\n",
      "Requirement already satisfied: charset-normalizer<4,>=2 in /home/mao/miniconda3/envs/archive/lib/python3.8/site-packages (from requests<3.0.0,>=2.13.0->spacy<4.0.0,>=3.1.3->spacy-transformers) (3.3.2)\n",
      "Requirement already satisfied: idna<4,>=2.5 in /home/mao/miniconda3/envs/archive/lib/python3.8/site-packages (from requests<3.0.0,>=2.13.0->spacy<4.0.0,>=3.1.3->spacy-transformers) (3.7)\n",
      "Requirement already satisfied: urllib3<3,>=1.21.1 in /home/mao/miniconda3/envs/archive/lib/python3.8/site-packages (from requests<3.0.0,>=2.13.0->spacy<4.0.0,>=3.1.3->spacy-transformers) (2.2.1)\n",
      "Requirement already satisfied: certifi>=2017.4.17 in /home/mao/miniconda3/envs/archive/lib/python3.8/site-packages (from requests<3.0.0,>=2.13.0->spacy<4.0.0,>=3.1.3->spacy-transformers) (2024.2.2)\n",
      "Requirement already satisfied: click<9.0.0,>=7.1.1 in /home/mao/miniconda3/envs/archive/lib/python3.8/site-packages (from typer<0.5.0,>=0.3.0->spacy<4.0.0,>=3.1.3->spacy-transformers) (8.1.7)\n",
      "Requirement already satisfied: MarkupSafe>=2.0 in /home/mao/miniconda3/envs/archive/lib/python3.8/site-packages (from jinja2->spacy<4.0.0,>=3.1.3->spacy-transformers) (2.1.5)\n",
      "Requirement already satisfied: marisa-trie>=0.7.7 in /home/mao/miniconda3/envs/archive/lib/python3.8/site-packages (from language-data>=1.2->langcodes<4.0.0,>=3.2.0->spacy<4.0.0,>=3.1.3->spacy-transformers) (1.1.1)\n"
     ]
    }
   ],
   "source": [
    "! pip install spacy-transformers\n"
   ]
  },
  {
   "cell_type": "code",
   "execution_count": 91,
   "id": "ad979532-6234-4201-87ed-a7df6c027226",
   "metadata": {},
   "outputs": [
    {
     "name": "stdout",
     "output_type": "stream",
     "text": [
      "Collecting he-ner-news-trf==3.2.1\n",
      "\u001b[31m  ERROR: HTTP error 404 while getting https://github.com/explosion/spacy-models/releases/download/he_ner_news_trf-3.2.1/he_ner_news_trf-3.2.1-py3-none-any.whl\u001b[0m\u001b[31m\n",
      "\u001b[0m\u001b[31mERROR: Could not install requirement he-ner-news-trf==3.2.1 from https://github.com/explosion/spacy-models/releases/download/he_ner_news_trf-3.2.1/he_ner_news_trf-3.2.1-py3-none-any.whl because of HTTP error 404 Client Error: Not Found for url: https://github.com/explosion/spacy-models/releases/download/he_ner_news_trf-3.2.1/he_ner_news_trf-3.2.1-py3-none-any.whl for URL https://github.com/explosion/spacy-models/releases/download/he_ner_news_trf-3.2.1/he_ner_news_trf-3.2.1-py3-none-any.whl\u001b[0m\u001b[31m\n",
      "\u001b[0m"
     ]
    }
   ],
   "source": [
    "! pip install https://github.com/explosion/spacy-models/releases/download/he_ner_news_trf-3.2.1/he_ner_news_trf-3.2.1-py3-none-any.whl\n"
   ]
  },
  {
   "cell_type": "code",
   "execution_count": 89,
   "id": "a8a3c9a8-68d8-4070-a8d7-a73b6a5bb059",
   "metadata": {},
   "outputs": [
    {
     "ename": "ValueError",
     "evalue": "[E002] Can't find factory for 'transformer' for language Hebrew (he). This usually happens when spaCy calls `nlp.create_pipe` with a custom component name that's not registered on the current language class. If you're using a custom component, make sure you've added the decorator `@Language.component` (for function components) or `@Language.factory` (for class components).\n\nAvailable factories: attribute_ruler, tok2vec, merge_noun_chunks, merge_entities, merge_subtokens, token_splitter, doc_cleaner, parser, beam_parser, lemmatizer, trainable_lemmatizer, entity_linker, entity_ruler, tagger, morphologizer, ner, beam_ner, senter, sentencizer, spancat, spancat_singlelabel, span_finder, future_entity_ruler, span_ruler, textcat, textcat_multilabel",
     "output_type": "error",
     "traceback": [
      "\u001b[0;31m---------------------------------------------------------------------------\u001b[0m",
      "\u001b[0;31mValueError\u001b[0m                                Traceback (most recent call last)",
      "Cell \u001b[0;32mIn[89], line 3\u001b[0m\n\u001b[1;32m      1\u001b[0m \u001b[38;5;28;01mimport\u001b[39;00m \u001b[38;5;21;01mspacy\u001b[39;00m\n\u001b[0;32m----> 3\u001b[0m nlp \u001b[38;5;241m=\u001b[39m \u001b[43mspacy\u001b[49m\u001b[38;5;241;43m.\u001b[39;49m\u001b[43mload\u001b[49m\u001b[43m(\u001b[49m\u001b[38;5;124;43m\"\u001b[39;49m\u001b[38;5;124;43mhe_ner_news_trf\u001b[39;49m\u001b[38;5;124;43m\"\u001b[39;49m\u001b[43m)\u001b[49m\n",
      "File \u001b[0;32m~/miniconda3/envs/archive/lib/python3.8/site-packages/spacy/__init__.py:51\u001b[0m, in \u001b[0;36mload\u001b[0;34m(name, vocab, disable, enable, exclude, config)\u001b[0m\n\u001b[1;32m     27\u001b[0m \u001b[38;5;28;01mdef\u001b[39;00m \u001b[38;5;21mload\u001b[39m(\n\u001b[1;32m     28\u001b[0m     name: Union[\u001b[38;5;28mstr\u001b[39m, Path],\n\u001b[1;32m     29\u001b[0m     \u001b[38;5;241m*\u001b[39m,\n\u001b[0;32m   (...)\u001b[0m\n\u001b[1;32m     34\u001b[0m     config: Union[Dict[\u001b[38;5;28mstr\u001b[39m, Any], Config] \u001b[38;5;241m=\u001b[39m util\u001b[38;5;241m.\u001b[39mSimpleFrozenDict(),\n\u001b[1;32m     35\u001b[0m ) \u001b[38;5;241m-\u001b[39m\u001b[38;5;241m>\u001b[39m Language:\n\u001b[1;32m     36\u001b[0m \u001b[38;5;250m    \u001b[39m\u001b[38;5;124;03m\"\"\"Load a spaCy model from an installed package or a local path.\u001b[39;00m\n\u001b[1;32m     37\u001b[0m \n\u001b[1;32m     38\u001b[0m \u001b[38;5;124;03m    name (str): Package name or model path.\u001b[39;00m\n\u001b[0;32m   (...)\u001b[0m\n\u001b[1;32m     49\u001b[0m \u001b[38;5;124;03m    RETURNS (Language): The loaded nlp object.\u001b[39;00m\n\u001b[1;32m     50\u001b[0m \u001b[38;5;124;03m    \"\"\"\u001b[39;00m\n\u001b[0;32m---> 51\u001b[0m     \u001b[38;5;28;01mreturn\u001b[39;00m \u001b[43mutil\u001b[49m\u001b[38;5;241;43m.\u001b[39;49m\u001b[43mload_model\u001b[49m\u001b[43m(\u001b[49m\n\u001b[1;32m     52\u001b[0m \u001b[43m        \u001b[49m\u001b[43mname\u001b[49m\u001b[43m,\u001b[49m\n\u001b[1;32m     53\u001b[0m \u001b[43m        \u001b[49m\u001b[43mvocab\u001b[49m\u001b[38;5;241;43m=\u001b[39;49m\u001b[43mvocab\u001b[49m\u001b[43m,\u001b[49m\n\u001b[1;32m     54\u001b[0m \u001b[43m        \u001b[49m\u001b[43mdisable\u001b[49m\u001b[38;5;241;43m=\u001b[39;49m\u001b[43mdisable\u001b[49m\u001b[43m,\u001b[49m\n\u001b[1;32m     55\u001b[0m \u001b[43m        \u001b[49m\u001b[43menable\u001b[49m\u001b[38;5;241;43m=\u001b[39;49m\u001b[43menable\u001b[49m\u001b[43m,\u001b[49m\n\u001b[1;32m     56\u001b[0m \u001b[43m        \u001b[49m\u001b[43mexclude\u001b[49m\u001b[38;5;241;43m=\u001b[39;49m\u001b[43mexclude\u001b[49m\u001b[43m,\u001b[49m\n\u001b[1;32m     57\u001b[0m \u001b[43m        \u001b[49m\u001b[43mconfig\u001b[49m\u001b[38;5;241;43m=\u001b[39;49m\u001b[43mconfig\u001b[49m\u001b[43m,\u001b[49m\n\u001b[1;32m     58\u001b[0m \u001b[43m    \u001b[49m\u001b[43m)\u001b[49m\n",
      "File \u001b[0;32m~/miniconda3/envs/archive/lib/python3.8/site-packages/spacy/util.py:465\u001b[0m, in \u001b[0;36mload_model\u001b[0;34m(name, vocab, disable, enable, exclude, config)\u001b[0m\n\u001b[1;32m    456\u001b[0m \u001b[38;5;28;01mdef\u001b[39;00m \u001b[38;5;21mload_model_from_path\u001b[39m(\n\u001b[1;32m    457\u001b[0m     model_path: Path,\n\u001b[1;32m    458\u001b[0m     \u001b[38;5;241m*\u001b[39m,\n\u001b[0;32m   (...)\u001b[0m\n\u001b[1;32m    463\u001b[0m     config: Union[Dict[\u001b[38;5;28mstr\u001b[39m, Any], Config] \u001b[38;5;241m=\u001b[39m SimpleFrozenDict(),\n\u001b[1;32m    464\u001b[0m ) \u001b[38;5;241m-\u001b[39m\u001b[38;5;241m>\u001b[39m \u001b[38;5;124m\"\u001b[39m\u001b[38;5;124mLanguage\u001b[39m\u001b[38;5;124m\"\u001b[39m:\n\u001b[0;32m--> 465\u001b[0m \u001b[38;5;250m    \u001b[39m\u001b[38;5;124;03m\"\"\"Load a model from a data directory path. Creates Language class with\u001b[39;00m\n\u001b[1;32m    466\u001b[0m \u001b[38;5;124;03m    pipeline from config.cfg and then calls from_disk() with path.\u001b[39;00m\n\u001b[1;32m    467\u001b[0m \n\u001b[1;32m    468\u001b[0m \u001b[38;5;124;03m    model_path (Path): Model path.\u001b[39;00m\n\u001b[1;32m    469\u001b[0m \u001b[38;5;124;03m    meta (Dict[str, Any]): Optional model meta.\u001b[39;00m\n\u001b[1;32m    470\u001b[0m \u001b[38;5;124;03m    vocab (Vocab / True): Optional vocab to pass in on initialization. If True,\u001b[39;00m\n\u001b[1;32m    471\u001b[0m \u001b[38;5;124;03m        a new Vocab object will be created.\u001b[39;00m\n\u001b[1;32m    472\u001b[0m \u001b[38;5;124;03m    disable (Iterable[str]): Names of pipeline components to disable. Disabled\u001b[39;00m\n\u001b[1;32m    473\u001b[0m \u001b[38;5;124;03m        pipes will be loaded but they won't be run unless you explicitly\u001b[39;00m\n\u001b[1;32m    474\u001b[0m \u001b[38;5;124;03m        enable them by calling nlp.enable_pipe.\u001b[39;00m\n\u001b[1;32m    475\u001b[0m \u001b[38;5;124;03m    exclude (Iterable[str]): Names of pipeline components to exclude. Excluded\u001b[39;00m\n\u001b[1;32m    476\u001b[0m \u001b[38;5;124;03m        components won't be loaded.\u001b[39;00m\n\u001b[1;32m    477\u001b[0m \u001b[38;5;124;03m    config (Dict[str, Any] / Config): Config overrides as nested dict or dict\u001b[39;00m\n\u001b[1;32m    478\u001b[0m \u001b[38;5;124;03m        keyed by section values in dot notation.\u001b[39;00m\n\u001b[1;32m    479\u001b[0m \u001b[38;5;124;03m    RETURNS (Language): The loaded nlp object.\u001b[39;00m\n\u001b[1;32m    480\u001b[0m \u001b[38;5;124;03m    \"\"\"\u001b[39;00m\n\u001b[1;32m    481\u001b[0m     \u001b[38;5;28;01mif\u001b[39;00m \u001b[38;5;129;01mnot\u001b[39;00m model_path\u001b[38;5;241m.\u001b[39mexists():\n\u001b[1;32m    482\u001b[0m         \u001b[38;5;28;01mraise\u001b[39;00m \u001b[38;5;167;01mIOError\u001b[39;00m(Errors\u001b[38;5;241m.\u001b[39mE052\u001b[38;5;241m.\u001b[39mformat(path\u001b[38;5;241m=\u001b[39mmodel_path))\n",
      "File \u001b[0;32m~/miniconda3/envs/archive/lib/python3.8/site-packages/spacy/util.py:501\u001b[0m, in \u001b[0;36mload_model_from_package\u001b[0;34m(name, vocab, disable, enable, exclude, config)\u001b[0m\n\u001b[1;32m    492\u001b[0m \u001b[38;5;28;01mdef\u001b[39;00m \u001b[38;5;21mload_model_from_config\u001b[39m(\n\u001b[1;32m    493\u001b[0m     config: Union[Dict[\u001b[38;5;28mstr\u001b[39m, Any], Config],\n\u001b[1;32m    494\u001b[0m     \u001b[38;5;241m*\u001b[39m,\n\u001b[0;32m   (...)\u001b[0m\n\u001b[1;32m    499\u001b[0m     validate: \u001b[38;5;28mbool\u001b[39m \u001b[38;5;241m=\u001b[39m \u001b[38;5;28;01mTrue\u001b[39;00m,\n\u001b[1;32m    500\u001b[0m ) \u001b[38;5;241m-\u001b[39m\u001b[38;5;241m>\u001b[39m \u001b[38;5;124m\"\u001b[39m\u001b[38;5;124mLanguage\u001b[39m\u001b[38;5;124m\"\u001b[39m:\n\u001b[0;32m--> 501\u001b[0m \u001b[38;5;250m    \u001b[39m\u001b[38;5;124;03m\"\"\"Create an nlp object from a config. Expects the full config file including\u001b[39;00m\n\u001b[1;32m    502\u001b[0m \u001b[38;5;124;03m    a section \"nlp\" containing the settings for the nlp object.\u001b[39;00m\n\u001b[1;32m    503\u001b[0m \n\u001b[1;32m    504\u001b[0m \u001b[38;5;124;03m    name (str): Package name or model path.\u001b[39;00m\n\u001b[1;32m    505\u001b[0m \u001b[38;5;124;03m    meta (Dict[str, Any]): Optional model meta.\u001b[39;00m\n\u001b[1;32m    506\u001b[0m \u001b[38;5;124;03m    vocab (Vocab / True): Optional vocab to pass in on initialization. If True,\u001b[39;00m\n\u001b[1;32m    507\u001b[0m \u001b[38;5;124;03m        a new Vocab object will be created.\u001b[39;00m\n\u001b[1;32m    508\u001b[0m \u001b[38;5;124;03m    disable (Iterable[str]): Names of pipeline components to disable. Disabled\u001b[39;00m\n\u001b[1;32m    509\u001b[0m \u001b[38;5;124;03m        pipes will be loaded but they won't be run unless you explicitly\u001b[39;00m\n\u001b[1;32m    510\u001b[0m \u001b[38;5;124;03m        enable them by calling nlp.enable_pipe.\u001b[39;00m\n\u001b[1;32m    511\u001b[0m \u001b[38;5;124;03m    exclude (Iterable[str]): Names of pipeline components to exclude. Excluded\u001b[39;00m\n\u001b[1;32m    512\u001b[0m \u001b[38;5;124;03m        components won't be loaded.\u001b[39;00m\n\u001b[1;32m    513\u001b[0m \u001b[38;5;124;03m    auto_fill (bool): Whether to auto-fill config with missing defaults.\u001b[39;00m\n\u001b[1;32m    514\u001b[0m \u001b[38;5;124;03m    validate (bool): Whether to show config validation errors.\u001b[39;00m\n\u001b[1;32m    515\u001b[0m \u001b[38;5;124;03m    RETURNS (Language): The loaded nlp object.\u001b[39;00m\n\u001b[1;32m    516\u001b[0m \u001b[38;5;124;03m    \"\"\"\u001b[39;00m\n\u001b[1;32m    517\u001b[0m     \u001b[38;5;28;01mif\u001b[39;00m \u001b[38;5;124m\"\u001b[39m\u001b[38;5;124mnlp\u001b[39m\u001b[38;5;124m\"\u001b[39m \u001b[38;5;129;01mnot\u001b[39;00m \u001b[38;5;129;01min\u001b[39;00m config:\n\u001b[1;32m    518\u001b[0m         \u001b[38;5;28;01mraise\u001b[39;00m \u001b[38;5;167;01mValueError\u001b[39;00m(Errors\u001b[38;5;241m.\u001b[39mE985\u001b[38;5;241m.\u001b[39mformat(config\u001b[38;5;241m=\u001b[39mconfig))\n",
      "File \u001b[0;32m~/miniconda3/envs/archive/lib/python3.8/site-packages/he_ner_news_trf/__init__.py:10\u001b[0m, in \u001b[0;36mload\u001b[0;34m(**overrides)\u001b[0m\n\u001b[1;32m      9\u001b[0m \u001b[38;5;28;01mdef\u001b[39;00m \u001b[38;5;21mload\u001b[39m(\u001b[38;5;241m*\u001b[39m\u001b[38;5;241m*\u001b[39moverrides):\n\u001b[0;32m---> 10\u001b[0m     \u001b[38;5;28;01mreturn\u001b[39;00m \u001b[43mload_model_from_init_py\u001b[49m\u001b[43m(\u001b[49m\u001b[38;5;18;43m__file__\u001b[39;49m\u001b[43m,\u001b[49m\u001b[43m \u001b[49m\u001b[38;5;241;43m*\u001b[39;49m\u001b[38;5;241;43m*\u001b[39;49m\u001b[43moverrides\u001b[49m\u001b[43m)\u001b[49m\n",
      "File \u001b[0;32m~/miniconda3/envs/archive/lib/python3.8/site-packages/spacy/util.py:682\u001b[0m, in \u001b[0;36mload_model_from_init_py\u001b[0;34m(init_file, vocab, disable, enable, exclude, config)\u001b[0m\n\u001b[1;32m    675\u001b[0m \u001b[38;5;250m\u001b[39m\u001b[38;5;124;03m\"\"\"Get the version of an installed package. Typically used to get model\u001b[39;00m\n\u001b[1;32m    676\u001b[0m \u001b[38;5;124;03mpackage versions.\u001b[39;00m\n\u001b[1;32m    677\u001b[0m \n\u001b[1;32m    678\u001b[0m \u001b[38;5;124;03mname (str): The name of the installed Python package.\u001b[39;00m\n\u001b[1;32m    679\u001b[0m \u001b[38;5;124;03mRETURNS (str / None): The version or None if package not installed.\u001b[39;00m\n\u001b[1;32m    680\u001b[0m \u001b[38;5;124;03m\"\"\"\u001b[39;00m\n\u001b[1;32m    681\u001b[0m \u001b[38;5;28;01mtry\u001b[39;00m:\n\u001b[0;32m--> 682\u001b[0m     \u001b[38;5;28;01mreturn\u001b[39;00m importlib_metadata\u001b[38;5;241m.\u001b[39mversion(name)  \u001b[38;5;66;03m# type: ignore[attr-defined]\u001b[39;00m\n\u001b[1;32m    683\u001b[0m \u001b[38;5;28;01mexcept\u001b[39;00m importlib_metadata\u001b[38;5;241m.\u001b[39mPackageNotFoundError:  \u001b[38;5;66;03m# type: ignore[attr-defined]\u001b[39;00m\n\u001b[1;32m    684\u001b[0m     \u001b[38;5;28;01mreturn\u001b[39;00m \u001b[38;5;28;01mNone\u001b[39;00m\n",
      "File \u001b[0;32m~/miniconda3/envs/archive/lib/python3.8/site-packages/spacy/util.py:539\u001b[0m, in \u001b[0;36mload_model_from_path\u001b[0;34m(model_path, meta, vocab, disable, enable, exclude, config)\u001b[0m\n\u001b[1;32m    536\u001b[0m \u001b[38;5;28;01mdef\u001b[39;00m \u001b[38;5;21mget_sourced_components\u001b[39m(\n\u001b[1;32m    537\u001b[0m     config: Union[Dict[\u001b[38;5;28mstr\u001b[39m, Any], Config]\n\u001b[1;32m    538\u001b[0m ) \u001b[38;5;241m-\u001b[39m\u001b[38;5;241m>\u001b[39m Dict[\u001b[38;5;28mstr\u001b[39m, Dict[\u001b[38;5;28mstr\u001b[39m, Any]]:\n\u001b[0;32m--> 539\u001b[0m \u001b[38;5;250m    \u001b[39m\u001b[38;5;124;03m\"\"\"RETURNS (List[str]): All sourced components in the original config,\u001b[39;00m\n\u001b[1;32m    540\u001b[0m \u001b[38;5;124;03m    e.g. {\"source\": \"en_core_web_sm\"}. If the config contains a key\u001b[39;00m\n\u001b[1;32m    541\u001b[0m \u001b[38;5;124;03m    \"factory\", we assume it refers to a component factory.\u001b[39;00m\n\u001b[1;32m    542\u001b[0m \u001b[38;5;124;03m    \"\"\"\u001b[39;00m\n\u001b[1;32m    543\u001b[0m     \u001b[38;5;28;01mreturn\u001b[39;00m {\n\u001b[1;32m    544\u001b[0m         name: cfg\n\u001b[1;32m    545\u001b[0m         \u001b[38;5;28;01mfor\u001b[39;00m name, cfg \u001b[38;5;129;01min\u001b[39;00m config\u001b[38;5;241m.\u001b[39mget(\u001b[38;5;124m\"\u001b[39m\u001b[38;5;124mcomponents\u001b[39m\u001b[38;5;124m\"\u001b[39m, {})\u001b[38;5;241m.\u001b[39mitems()\n\u001b[1;32m    546\u001b[0m         \u001b[38;5;28;01mif\u001b[39;00m \u001b[38;5;124m\"\u001b[39m\u001b[38;5;124mfactory\u001b[39m\u001b[38;5;124m\"\u001b[39m \u001b[38;5;129;01mnot\u001b[39;00m \u001b[38;5;129;01min\u001b[39;00m cfg \u001b[38;5;129;01mand\u001b[39;00m \u001b[38;5;124m\"\u001b[39m\u001b[38;5;124msource\u001b[39m\u001b[38;5;124m\"\u001b[39m \u001b[38;5;129;01min\u001b[39;00m cfg\n\u001b[1;32m    547\u001b[0m     }\n",
      "File \u001b[0;32m~/miniconda3/envs/archive/lib/python3.8/site-packages/spacy/util.py:587\u001b[0m, in \u001b[0;36mload_model_from_config\u001b[0;34m(config, meta, vocab, disable, enable, exclude, auto_fill, validate)\u001b[0m\n\u001b[1;32m    583\u001b[0m         \u001b[38;5;28;01mraise\u001b[39;00m ConfigValidationError(config\u001b[38;5;241m=\u001b[39mconfig, errors\u001b[38;5;241m=\u001b[39merrors)\n\u001b[1;32m    584\u001b[0m     \u001b[38;5;28;01mreturn\u001b[39;00m \u001b[38;5;28mtuple\u001b[39m(output)\n\u001b[0;32m--> 587\u001b[0m \u001b[38;5;28;01mdef\u001b[39;00m \u001b[38;5;21mload_model_from_init_py\u001b[39m(\n\u001b[1;32m    588\u001b[0m     init_file: Union[Path, \u001b[38;5;28mstr\u001b[39m],\n\u001b[1;32m    589\u001b[0m     \u001b[38;5;241m*\u001b[39m,\n\u001b[1;32m    590\u001b[0m     vocab: Union[\u001b[38;5;124m\"\u001b[39m\u001b[38;5;124mVocab\u001b[39m\u001b[38;5;124m\"\u001b[39m, \u001b[38;5;28mbool\u001b[39m] \u001b[38;5;241m=\u001b[39m \u001b[38;5;28;01mTrue\u001b[39;00m,\n\u001b[1;32m    591\u001b[0m     disable: Iterable[\u001b[38;5;28mstr\u001b[39m] \u001b[38;5;241m=\u001b[39m SimpleFrozenList(),\n\u001b[1;32m    592\u001b[0m     exclude: Iterable[\u001b[38;5;28mstr\u001b[39m] \u001b[38;5;241m=\u001b[39m SimpleFrozenList(),\n\u001b[1;32m    593\u001b[0m     config: Union[Dict[\u001b[38;5;28mstr\u001b[39m, Any], Config] \u001b[38;5;241m=\u001b[39m SimpleFrozenDict(),\n\u001b[1;32m    594\u001b[0m ) \u001b[38;5;241m-\u001b[39m\u001b[38;5;241m>\u001b[39m \u001b[38;5;124m\"\u001b[39m\u001b[38;5;124mLanguage\u001b[39m\u001b[38;5;124m\"\u001b[39m:\n\u001b[1;32m    595\u001b[0m \u001b[38;5;250m    \u001b[39m\u001b[38;5;124;03m\"\"\"Helper function to use in the `load()` method of a model package's\u001b[39;00m\n\u001b[1;32m    596\u001b[0m \u001b[38;5;124;03m    __init__.py.\u001b[39;00m\n\u001b[1;32m    597\u001b[0m \n\u001b[0;32m   (...)\u001b[0m\n\u001b[1;32m    607\u001b[0m \u001b[38;5;124;03m    RETURNS (Language): The loaded nlp object.\u001b[39;00m\n\u001b[1;32m    608\u001b[0m \u001b[38;5;124;03m    \"\"\"\u001b[39;00m\n\u001b[1;32m    609\u001b[0m     model_path \u001b[38;5;241m=\u001b[39m Path(init_file)\u001b[38;5;241m.\u001b[39mparent\n",
      "File \u001b[0;32m~/miniconda3/envs/archive/lib/python3.8/site-packages/spacy/language.py:1889\u001b[0m, in \u001b[0;36mfrom_config\u001b[0;34m(cls, config, vocab, disable, enable, exclude, meta, auto_fill, validate)\u001b[0m\n\u001b[1;32m   1870\u001b[0m \u001b[38;5;28;01mdef\u001b[39;00m \u001b[38;5;21mreplace_listeners\u001b[39m(\n\u001b[1;32m   1871\u001b[0m     \u001b[38;5;28mself\u001b[39m,\n\u001b[1;32m   1872\u001b[0m     tok2vec_name: \u001b[38;5;28mstr\u001b[39m,\n\u001b[1;32m   1873\u001b[0m     pipe_name: \u001b[38;5;28mstr\u001b[39m,\n\u001b[1;32m   1874\u001b[0m     listeners: Iterable[\u001b[38;5;28mstr\u001b[39m],\n\u001b[1;32m   1875\u001b[0m ) \u001b[38;5;241m-\u001b[39m\u001b[38;5;241m>\u001b[39m \u001b[38;5;28;01mNone\u001b[39;00m:\n\u001b[1;32m   1876\u001b[0m \u001b[38;5;250m    \u001b[39m\u001b[38;5;124;03m\"\"\"Find listener layers (connecting to a token-to-vector embedding\u001b[39;00m\n\u001b[1;32m   1877\u001b[0m \u001b[38;5;124;03m    component) of a given pipeline component model and replace\u001b[39;00m\n\u001b[1;32m   1878\u001b[0m \u001b[38;5;124;03m    them with a standalone copy of the token-to-vector layer. This can be\u001b[39;00m\n\u001b[1;32m   1879\u001b[0m \u001b[38;5;124;03m    useful when training a pipeline with components sourced from an existing\u001b[39;00m\n\u001b[1;32m   1880\u001b[0m \u001b[38;5;124;03m    pipeline: if multiple components (e.g. tagger, parser, NER) listen to\u001b[39;00m\n\u001b[1;32m   1881\u001b[0m \u001b[38;5;124;03m    the same tok2vec component, but some of them are frozen and not updated,\u001b[39;00m\n\u001b[1;32m   1882\u001b[0m \u001b[38;5;124;03m    their performance may degrade significally as the tok2vec component is\u001b[39;00m\n\u001b[1;32m   1883\u001b[0m \u001b[38;5;124;03m    updated with new data. To prevent this, listeners can be replaced with\u001b[39;00m\n\u001b[1;32m   1884\u001b[0m \u001b[38;5;124;03m    a standalone tok2vec layer that is owned by the component and doesn't\u001b[39;00m\n\u001b[1;32m   1885\u001b[0m \u001b[38;5;124;03m    change if the component isn't updated.\u001b[39;00m\n\u001b[1;32m   1886\u001b[0m \n\u001b[1;32m   1887\u001b[0m \u001b[38;5;124;03m    tok2vec_name (str): Name of the token-to-vector component, typically\u001b[39;00m\n\u001b[1;32m   1888\u001b[0m \u001b[38;5;124;03m        \"tok2vec\" or \"transformer\".\u001b[39;00m\n\u001b[0;32m-> 1889\u001b[0m \u001b[38;5;124;03m    pipe_name (str): Name of pipeline component to replace listeners for.\u001b[39;00m\n\u001b[1;32m   1890\u001b[0m \u001b[38;5;124;03m    listeners (Iterable[str]): The paths to the listeners, relative to the\u001b[39;00m\n\u001b[1;32m   1891\u001b[0m \u001b[38;5;124;03m        component config, e.g. [\"model.tok2vec\"]. Typically, implementations\u001b[39;00m\n\u001b[1;32m   1892\u001b[0m \u001b[38;5;124;03m        will only connect to one tok2vec component, [model.tok2vec], but in\u001b[39;00m\n\u001b[1;32m   1893\u001b[0m \u001b[38;5;124;03m        theory, custom models can use multiple listeners. The value here can\u001b[39;00m\n\u001b[1;32m   1894\u001b[0m \u001b[38;5;124;03m        either be an empty list to not replace any listeners, or a complete\u001b[39;00m\n\u001b[1;32m   1895\u001b[0m \u001b[38;5;124;03m        (!) list of the paths to all listener layers used by the model.\u001b[39;00m\n\u001b[1;32m   1896\u001b[0m \n\u001b[1;32m   1897\u001b[0m \u001b[38;5;124;03m    DOCS: https://spacy.io/api/language#replace_listeners\u001b[39;00m\n\u001b[1;32m   1898\u001b[0m \u001b[38;5;124;03m    \"\"\"\u001b[39;00m\n\u001b[1;32m   1899\u001b[0m     \u001b[38;5;28;01mif\u001b[39;00m tok2vec_name \u001b[38;5;129;01mnot\u001b[39;00m \u001b[38;5;129;01min\u001b[39;00m \u001b[38;5;28mself\u001b[39m\u001b[38;5;241m.\u001b[39mpipe_names:\n\u001b[1;32m   1900\u001b[0m         err \u001b[38;5;241m=\u001b[39m Errors\u001b[38;5;241m.\u001b[39mE889\u001b[38;5;241m.\u001b[39mformat(\n\u001b[1;32m   1901\u001b[0m             tok2vec\u001b[38;5;241m=\u001b[39mtok2vec_name,\n\u001b[1;32m   1902\u001b[0m             name\u001b[38;5;241m=\u001b[39mpipe_name,\n\u001b[1;32m   1903\u001b[0m             unknown\u001b[38;5;241m=\u001b[39mtok2vec_name,\n\u001b[1;32m   1904\u001b[0m             opts\u001b[38;5;241m=\u001b[39m\u001b[38;5;124m\"\u001b[39m\u001b[38;5;124m, \u001b[39m\u001b[38;5;124m\"\u001b[39m\u001b[38;5;241m.\u001b[39mjoin(\u001b[38;5;28mself\u001b[39m\u001b[38;5;241m.\u001b[39mpipe_names),\n\u001b[1;32m   1905\u001b[0m         )\n",
      "File \u001b[0;32m~/miniconda3/envs/archive/lib/python3.8/site-packages/spacy/language.py:821\u001b[0m, in \u001b[0;36madd_pipe\u001b[0;34m(self, factory_name, name, before, after, first, last, source, config, raw_config, validate)\u001b[0m\n\u001b[1;32m    811\u001b[0m \u001b[38;5;250m\u001b[39m\u001b[38;5;124;03m\"\"\"Determine where to insert a pipeline component based on the before/\u001b[39;00m\n\u001b[1;32m    812\u001b[0m \u001b[38;5;124;03mafter/first/last values.\u001b[39;00m\n\u001b[1;32m    813\u001b[0m \n\u001b[0;32m   (...)\u001b[0m\n\u001b[1;32m    818\u001b[0m \u001b[38;5;124;03mRETURNS (int): The index of the new pipeline component.\u001b[39;00m\n\u001b[1;32m    819\u001b[0m \u001b[38;5;124;03m\"\"\"\u001b[39;00m\n\u001b[1;32m    820\u001b[0m all_args \u001b[38;5;241m=\u001b[39m {\u001b[38;5;124m\"\u001b[39m\u001b[38;5;124mbefore\u001b[39m\u001b[38;5;124m\"\u001b[39m: before, \u001b[38;5;124m\"\u001b[39m\u001b[38;5;124mafter\u001b[39m\u001b[38;5;124m\"\u001b[39m: after, \u001b[38;5;124m\"\u001b[39m\u001b[38;5;124mfirst\u001b[39m\u001b[38;5;124m\"\u001b[39m: first, \u001b[38;5;124m\"\u001b[39m\u001b[38;5;124mlast\u001b[39m\u001b[38;5;124m\"\u001b[39m: last}\n\u001b[0;32m--> 821\u001b[0m \u001b[38;5;28;01mif\u001b[39;00m \u001b[38;5;28msum\u001b[39m(arg \u001b[38;5;129;01mis\u001b[39;00m \u001b[38;5;129;01mnot\u001b[39;00m \u001b[38;5;28;01mNone\u001b[39;00m \u001b[38;5;28;01mfor\u001b[39;00m arg \u001b[38;5;129;01min\u001b[39;00m [before, after, first, last]) \u001b[38;5;241m>\u001b[39m\u001b[38;5;241m=\u001b[39m \u001b[38;5;241m2\u001b[39m:\n\u001b[1;32m    822\u001b[0m     \u001b[38;5;28;01mraise\u001b[39;00m \u001b[38;5;167;01mValueError\u001b[39;00m(\n\u001b[1;32m    823\u001b[0m         Errors\u001b[38;5;241m.\u001b[39mE006\u001b[38;5;241m.\u001b[39mformat(args\u001b[38;5;241m=\u001b[39mall_args, opts\u001b[38;5;241m=\u001b[39m\u001b[38;5;28mself\u001b[39m\u001b[38;5;241m.\u001b[39mcomponent_names)\n\u001b[1;32m    824\u001b[0m     )\n\u001b[1;32m    825\u001b[0m \u001b[38;5;28;01mif\u001b[39;00m last \u001b[38;5;129;01mor\u001b[39;00m \u001b[38;5;129;01mnot\u001b[39;00m \u001b[38;5;28many\u001b[39m(value \u001b[38;5;129;01mis\u001b[39;00m \u001b[38;5;129;01mnot\u001b[39;00m \u001b[38;5;28;01mNone\u001b[39;00m \u001b[38;5;28;01mfor\u001b[39;00m value \u001b[38;5;129;01min\u001b[39;00m [first, before, after]):\n",
      "File \u001b[0;32m~/miniconda3/envs/archive/lib/python3.8/site-packages/spacy/language.py:690\u001b[0m, in \u001b[0;36mcreate_pipe\u001b[0;34m(self, factory_name, name, config, raw_config, validate)\u001b[0m\n\u001b[1;32m    687\u001b[0m     \u001b[38;5;28mself\u001b[39m\u001b[38;5;241m.\u001b[39m_pipe_configs[name] \u001b[38;5;241m=\u001b[39m filled\n\u001b[1;32m    688\u001b[0m     \u001b[38;5;28;01mreturn\u001b[39;00m resolved[factory_name]\n\u001b[0;32m--> 690\u001b[0m \u001b[38;5;28;01mdef\u001b[39;00m \u001b[38;5;21mcreate_pipe_from_source\u001b[39m(\n\u001b[1;32m    691\u001b[0m     \u001b[38;5;28mself\u001b[39m, source_name: \u001b[38;5;28mstr\u001b[39m, source: \u001b[38;5;124m\"\u001b[39m\u001b[38;5;124mLanguage\u001b[39m\u001b[38;5;124m\"\u001b[39m, \u001b[38;5;241m*\u001b[39m, name: \u001b[38;5;28mstr\u001b[39m\n\u001b[1;32m    692\u001b[0m ) \u001b[38;5;241m-\u001b[39m\u001b[38;5;241m>\u001b[39m Tuple[\u001b[38;5;124m\"\u001b[39m\u001b[38;5;124mPipe\u001b[39m\u001b[38;5;124m\"\u001b[39m, \u001b[38;5;28mstr\u001b[39m]:\n\u001b[1;32m    693\u001b[0m \u001b[38;5;250m    \u001b[39m\u001b[38;5;124;03m\"\"\"Create a pipeline component by copying it from an existing model.\u001b[39;00m\n\u001b[1;32m    694\u001b[0m \n\u001b[1;32m    695\u001b[0m \u001b[38;5;124;03m    source_name (str): Name of the component in the source pipeline.\u001b[39;00m\n\u001b[0;32m   (...)\u001b[0m\n\u001b[1;32m    698\u001b[0m \u001b[38;5;124;03m    RETURNS (Tuple[Callable, str]): The component and its factory name.\u001b[39;00m\n\u001b[1;32m    699\u001b[0m \u001b[38;5;124;03m    \"\"\"\u001b[39;00m\n\u001b[1;32m    700\u001b[0m     \u001b[38;5;66;03m# Check source type\u001b[39;00m\n",
      "\u001b[0;31mValueError\u001b[0m: [E002] Can't find factory for 'transformer' for language Hebrew (he). This usually happens when spaCy calls `nlp.create_pipe` with a custom component name that's not registered on the current language class. If you're using a custom component, make sure you've added the decorator `@Language.component` (for function components) or `@Language.factory` (for class components).\n\nAvailable factories: attribute_ruler, tok2vec, merge_noun_chunks, merge_entities, merge_subtokens, token_splitter, doc_cleaner, parser, beam_parser, lemmatizer, trainable_lemmatizer, entity_linker, entity_ruler, tagger, morphologizer, ner, beam_ner, senter, sentencizer, spancat, spancat_singlelabel, span_finder, future_entity_ruler, span_ruler, textcat, textcat_multilabel"
     ]
    }
   ],
   "source": [
    "import spacy\n",
    "\n",
    "nlp = spacy.load(\"he_ner_news_trf\")"
   ]
  },
  {
   "cell_type": "code",
   "execution_count": 80,
   "id": "cac0486e-e5d9-4a63-b55c-96b95ac05a35",
   "metadata": {},
   "outputs": [],
   "source": [
    "# ! pip install hebspacy\n"
   ]
  },
  {
   "cell_type": "code",
   "execution_count": null,
   "id": "9129ac96-9d7f-4149-9567-07dbb712bb8c",
   "metadata": {},
   "outputs": [],
   "source": [
    "pip install \"he_ner_news_trf\""
   ]
  },
  {
   "cell_type": "code",
   "execution_count": 4,
   "id": "3a55d613-259b-43b7-98a2-0c2804258715",
   "metadata": {},
   "outputs": [
    {
     "ename": "RuntimeError",
     "evalue": "Failed to import transformers.pipelines because of the following error (look up to see its traceback):\nNo module named 'google.protobuf'",
     "output_type": "error",
     "traceback": [
      "\u001b[0;31m---------------------------------------------------------------------------\u001b[0m",
      "\u001b[0;31mModuleNotFoundError\u001b[0m                       Traceback (most recent call last)",
      "\u001b[0;32m~/miniconda3/envs/algos_axel/lib/python3.8/site-packages/transformers/utils/import_utils.py\u001b[0m in \u001b[0;36m_get_module\u001b[0;34m(self, module_name)\u001b[0m\n\u001b[1;32m   1534\u001b[0m         \u001b[0;32mtry\u001b[0m\u001b[0;34m:\u001b[0m\u001b[0;34m\u001b[0m\u001b[0;34m\u001b[0m\u001b[0m\n\u001b[0;32m-> 1535\u001b[0;31m             \u001b[0;32mreturn\u001b[0m \u001b[0mimportlib\u001b[0m\u001b[0;34m.\u001b[0m\u001b[0mimport_module\u001b[0m\u001b[0;34m(\u001b[0m\u001b[0;34m\".\"\u001b[0m \u001b[0;34m+\u001b[0m \u001b[0mmodule_name\u001b[0m\u001b[0;34m,\u001b[0m \u001b[0mself\u001b[0m\u001b[0;34m.\u001b[0m\u001b[0m__name__\u001b[0m\u001b[0;34m)\u001b[0m\u001b[0;34m\u001b[0m\u001b[0;34m\u001b[0m\u001b[0m\n\u001b[0m\u001b[1;32m   1536\u001b[0m         \u001b[0;32mexcept\u001b[0m \u001b[0mException\u001b[0m \u001b[0;32mas\u001b[0m \u001b[0me\u001b[0m\u001b[0;34m:\u001b[0m\u001b[0;34m\u001b[0m\u001b[0;34m\u001b[0m\u001b[0m\n",
      "\u001b[0;32m~/miniconda3/envs/algos_axel/lib/python3.8/importlib/__init__.py\u001b[0m in \u001b[0;36mimport_module\u001b[0;34m(name, package)\u001b[0m\n\u001b[1;32m    126\u001b[0m             \u001b[0mlevel\u001b[0m \u001b[0;34m+=\u001b[0m \u001b[0;36m1\u001b[0m\u001b[0;34m\u001b[0m\u001b[0;34m\u001b[0m\u001b[0m\n\u001b[0;32m--> 127\u001b[0;31m     \u001b[0;32mreturn\u001b[0m \u001b[0m_bootstrap\u001b[0m\u001b[0;34m.\u001b[0m\u001b[0m_gcd_import\u001b[0m\u001b[0;34m(\u001b[0m\u001b[0mname\u001b[0m\u001b[0;34m[\u001b[0m\u001b[0mlevel\u001b[0m\u001b[0;34m:\u001b[0m\u001b[0;34m]\u001b[0m\u001b[0;34m,\u001b[0m \u001b[0mpackage\u001b[0m\u001b[0;34m,\u001b[0m \u001b[0mlevel\u001b[0m\u001b[0;34m)\u001b[0m\u001b[0;34m\u001b[0m\u001b[0;34m\u001b[0m\u001b[0m\n\u001b[0m\u001b[1;32m    128\u001b[0m \u001b[0;34m\u001b[0m\u001b[0m\n",
      "\u001b[0;32m~/miniconda3/envs/algos_axel/lib/python3.8/importlib/_bootstrap.py\u001b[0m in \u001b[0;36m_gcd_import\u001b[0;34m(name, package, level)\u001b[0m\n",
      "\u001b[0;32m~/miniconda3/envs/algos_axel/lib/python3.8/importlib/_bootstrap.py\u001b[0m in \u001b[0;36m_find_and_load\u001b[0;34m(name, import_)\u001b[0m\n",
      "\u001b[0;32m~/miniconda3/envs/algos_axel/lib/python3.8/importlib/_bootstrap.py\u001b[0m in \u001b[0;36m_find_and_load_unlocked\u001b[0;34m(name, import_)\u001b[0m\n",
      "\u001b[0;32m~/miniconda3/envs/algos_axel/lib/python3.8/importlib/_bootstrap.py\u001b[0m in \u001b[0;36m_load_unlocked\u001b[0;34m(spec)\u001b[0m\n",
      "\u001b[0;32m~/miniconda3/envs/algos_axel/lib/python3.8/importlib/_bootstrap_external.py\u001b[0m in \u001b[0;36mexec_module\u001b[0;34m(self, module)\u001b[0m\n",
      "\u001b[0;32m~/miniconda3/envs/algos_axel/lib/python3.8/importlib/_bootstrap.py\u001b[0m in \u001b[0;36m_call_with_frames_removed\u001b[0;34m(f, *args, **kwds)\u001b[0m\n",
      "\u001b[0;32m~/miniconda3/envs/algos_axel/lib/python3.8/site-packages/transformers/pipelines/__init__.py\u001b[0m in \u001b[0;36m<module>\u001b[0;34m\u001b[0m\n\u001b[1;32m     25\u001b[0m \u001b[0;32mfrom\u001b[0m \u001b[0;34m.\u001b[0m\u001b[0;34m.\u001b[0m\u001b[0mfeature_extraction_utils\u001b[0m \u001b[0;32mimport\u001b[0m \u001b[0mPreTrainedFeatureExtractor\u001b[0m\u001b[0;34m\u001b[0m\u001b[0;34m\u001b[0m\u001b[0m\n\u001b[0;32m---> 26\u001b[0;31m \u001b[0;32mfrom\u001b[0m \u001b[0;34m.\u001b[0m\u001b[0;34m.\u001b[0m\u001b[0mimage_processing_utils\u001b[0m \u001b[0;32mimport\u001b[0m \u001b[0mBaseImageProcessor\u001b[0m\u001b[0;34m\u001b[0m\u001b[0;34m\u001b[0m\u001b[0m\n\u001b[0m\u001b[1;32m     27\u001b[0m \u001b[0;32mfrom\u001b[0m \u001b[0;34m.\u001b[0m\u001b[0;34m.\u001b[0m\u001b[0mmodels\u001b[0m\u001b[0;34m.\u001b[0m\u001b[0mauto\u001b[0m\u001b[0;34m.\u001b[0m\u001b[0mconfiguration_auto\u001b[0m \u001b[0;32mimport\u001b[0m \u001b[0mAutoConfig\u001b[0m\u001b[0;34m\u001b[0m\u001b[0;34m\u001b[0m\u001b[0m\n",
      "\u001b[0;32m~/miniconda3/envs/algos_axel/lib/python3.8/site-packages/transformers/image_processing_utils.py\u001b[0m in \u001b[0;36m<module>\u001b[0;34m\u001b[0m\n\u001b[1;32m     27\u001b[0m \u001b[0;32mfrom\u001b[0m \u001b[0;34m.\u001b[0m\u001b[0mfeature_extraction_utils\u001b[0m \u001b[0;32mimport\u001b[0m \u001b[0mBatchFeature\u001b[0m \u001b[0;32mas\u001b[0m \u001b[0mBaseBatchFeature\u001b[0m\u001b[0;34m\u001b[0m\u001b[0;34m\u001b[0m\u001b[0m\n\u001b[0;32m---> 28\u001b[0;31m \u001b[0;32mfrom\u001b[0m \u001b[0;34m.\u001b[0m\u001b[0mimage_transforms\u001b[0m \u001b[0;32mimport\u001b[0m \u001b[0mcenter_crop\u001b[0m\u001b[0;34m,\u001b[0m \u001b[0mnormalize\u001b[0m\u001b[0;34m,\u001b[0m \u001b[0mrescale\u001b[0m\u001b[0;34m\u001b[0m\u001b[0;34m\u001b[0m\u001b[0m\n\u001b[0m\u001b[1;32m     29\u001b[0m \u001b[0;32mfrom\u001b[0m \u001b[0;34m.\u001b[0m\u001b[0mimage_utils\u001b[0m \u001b[0;32mimport\u001b[0m \u001b[0mChannelDimension\u001b[0m\u001b[0;34m\u001b[0m\u001b[0;34m\u001b[0m\u001b[0m\n",
      "\u001b[0;32m~/miniconda3/envs/algos_axel/lib/python3.8/site-packages/transformers/image_transforms.py\u001b[0m in \u001b[0;36m<module>\u001b[0;34m\u001b[0m\n\u001b[1;32m     46\u001b[0m \u001b[0;32mif\u001b[0m \u001b[0mis_tf_available\u001b[0m\u001b[0;34m(\u001b[0m\u001b[0;34m)\u001b[0m\u001b[0;34m:\u001b[0m\u001b[0;34m\u001b[0m\u001b[0;34m\u001b[0m\u001b[0m\n\u001b[0;32m---> 47\u001b[0;31m     \u001b[0;32mimport\u001b[0m \u001b[0mtensorflow\u001b[0m \u001b[0;32mas\u001b[0m \u001b[0mtf\u001b[0m\u001b[0;34m\u001b[0m\u001b[0;34m\u001b[0m\u001b[0m\n\u001b[0m\u001b[1;32m     48\u001b[0m \u001b[0;34m\u001b[0m\u001b[0m\n",
      "\u001b[0;32m~/miniconda3/envs/algos_axel/lib/python3.8/site-packages/tensorflow/__init__.py\u001b[0m in \u001b[0;36m<module>\u001b[0;34m\u001b[0m\n\u001b[1;32m     40\u001b[0m \u001b[0;34m\u001b[0m\u001b[0m\n\u001b[0;32m---> 41\u001b[0;31m \u001b[0;32mfrom\u001b[0m \u001b[0mtensorflow\u001b[0m\u001b[0;34m.\u001b[0m\u001b[0mpython\u001b[0m\u001b[0;34m.\u001b[0m\u001b[0mtools\u001b[0m \u001b[0;32mimport\u001b[0m \u001b[0mmodule_util\u001b[0m \u001b[0;32mas\u001b[0m \u001b[0m_module_util\u001b[0m\u001b[0;34m\u001b[0m\u001b[0;34m\u001b[0m\u001b[0m\n\u001b[0m\u001b[1;32m     42\u001b[0m \u001b[0;32mfrom\u001b[0m \u001b[0mtensorflow\u001b[0m\u001b[0;34m.\u001b[0m\u001b[0mpython\u001b[0m\u001b[0;34m.\u001b[0m\u001b[0mutil\u001b[0m\u001b[0;34m.\u001b[0m\u001b[0mlazy_loader\u001b[0m \u001b[0;32mimport\u001b[0m \u001b[0mLazyLoader\u001b[0m \u001b[0;32mas\u001b[0m \u001b[0m_LazyLoader\u001b[0m\u001b[0;34m\u001b[0m\u001b[0;34m\u001b[0m\u001b[0m\n",
      "\u001b[0;32m~/miniconda3/envs/algos_axel/lib/python3.8/site-packages/tensorflow/python/__init__.py\u001b[0m in \u001b[0;36m<module>\u001b[0;34m\u001b[0m\n\u001b[1;32m     39\u001b[0m \u001b[0;34m\u001b[0m\u001b[0m\n\u001b[0;32m---> 40\u001b[0;31m \u001b[0;32mfrom\u001b[0m \u001b[0mtensorflow\u001b[0m\u001b[0;34m.\u001b[0m\u001b[0mpython\u001b[0m\u001b[0;34m.\u001b[0m\u001b[0meager\u001b[0m \u001b[0;32mimport\u001b[0m \u001b[0mcontext\u001b[0m\u001b[0;34m\u001b[0m\u001b[0;34m\u001b[0m\u001b[0m\n\u001b[0m\u001b[1;32m     41\u001b[0m \u001b[0;32mfrom\u001b[0m \u001b[0mtensorflow\u001b[0m\u001b[0;34m.\u001b[0m\u001b[0mpython\u001b[0m \u001b[0;32mimport\u001b[0m \u001b[0mpywrap_tensorflow\u001b[0m \u001b[0;32mas\u001b[0m \u001b[0m_pywrap_tensorflow\u001b[0m\u001b[0;34m\u001b[0m\u001b[0;34m\u001b[0m\u001b[0m\n",
      "\u001b[0;32m~/miniconda3/envs/algos_axel/lib/python3.8/site-packages/tensorflow/python/eager/context.py\u001b[0m in \u001b[0;36m<module>\u001b[0;34m\u001b[0m\n\u001b[1;32m     31\u001b[0m \u001b[0;34m\u001b[0m\u001b[0m\n\u001b[0;32m---> 32\u001b[0;31m \u001b[0;32mfrom\u001b[0m \u001b[0mtensorflow\u001b[0m\u001b[0;34m.\u001b[0m\u001b[0mcore\u001b[0m\u001b[0;34m.\u001b[0m\u001b[0mframework\u001b[0m \u001b[0;32mimport\u001b[0m \u001b[0mfunction_pb2\u001b[0m\u001b[0;34m\u001b[0m\u001b[0;34m\u001b[0m\u001b[0m\n\u001b[0m\u001b[1;32m     33\u001b[0m \u001b[0;32mfrom\u001b[0m \u001b[0mtensorflow\u001b[0m\u001b[0;34m.\u001b[0m\u001b[0mcore\u001b[0m\u001b[0;34m.\u001b[0m\u001b[0mprotobuf\u001b[0m \u001b[0;32mimport\u001b[0m \u001b[0mconfig_pb2\u001b[0m\u001b[0;34m\u001b[0m\u001b[0;34m\u001b[0m\u001b[0m\n",
      "\u001b[0;32m~/miniconda3/envs/algos_axel/lib/python3.8/site-packages/tensorflow/core/framework/function_pb2.py\u001b[0m in \u001b[0;36m<module>\u001b[0;34m\u001b[0m\n\u001b[1;32m      6\u001b[0m \u001b[0m_b\u001b[0m\u001b[0;34m=\u001b[0m\u001b[0msys\u001b[0m\u001b[0;34m.\u001b[0m\u001b[0mversion_info\u001b[0m\u001b[0;34m[\u001b[0m\u001b[0;36m0\u001b[0m\u001b[0;34m]\u001b[0m\u001b[0;34m<\u001b[0m\u001b[0;36m3\u001b[0m \u001b[0;32mand\u001b[0m \u001b[0;34m(\u001b[0m\u001b[0;32mlambda\u001b[0m \u001b[0mx\u001b[0m\u001b[0;34m:\u001b[0m\u001b[0mx\u001b[0m\u001b[0;34m)\u001b[0m \u001b[0;32mor\u001b[0m \u001b[0;34m(\u001b[0m\u001b[0;32mlambda\u001b[0m \u001b[0mx\u001b[0m\u001b[0;34m:\u001b[0m\u001b[0mx\u001b[0m\u001b[0;34m.\u001b[0m\u001b[0mencode\u001b[0m\u001b[0;34m(\u001b[0m\u001b[0;34m'latin1'\u001b[0m\u001b[0;34m)\u001b[0m\u001b[0;34m)\u001b[0m\u001b[0;34m\u001b[0m\u001b[0;34m\u001b[0m\u001b[0m\n\u001b[0;32m----> 7\u001b[0;31m \u001b[0;32mfrom\u001b[0m \u001b[0mgoogle\u001b[0m\u001b[0;34m.\u001b[0m\u001b[0mprotobuf\u001b[0m \u001b[0;32mimport\u001b[0m \u001b[0mdescriptor\u001b[0m \u001b[0;32mas\u001b[0m \u001b[0m_descriptor\u001b[0m\u001b[0;34m\u001b[0m\u001b[0;34m\u001b[0m\u001b[0m\n\u001b[0m\u001b[1;32m      8\u001b[0m \u001b[0;32mfrom\u001b[0m \u001b[0mgoogle\u001b[0m\u001b[0;34m.\u001b[0m\u001b[0mprotobuf\u001b[0m \u001b[0;32mimport\u001b[0m \u001b[0mmessage\u001b[0m \u001b[0;32mas\u001b[0m \u001b[0m_message\u001b[0m\u001b[0;34m\u001b[0m\u001b[0;34m\u001b[0m\u001b[0m\n",
      "\u001b[0;31mModuleNotFoundError\u001b[0m: No module named 'google.protobuf'",
      "\nThe above exception was the direct cause of the following exception:\n",
      "\u001b[0;31mRuntimeError\u001b[0m                              Traceback (most recent call last)",
      "\u001b[0;32m/tmp/ipykernel_333167/3463887587.py\u001b[0m in \u001b[0;36m<cell line: 1>\u001b[0;34m()\u001b[0m\n\u001b[0;32m----> 1\u001b[0;31m \u001b[0;32mfrom\u001b[0m \u001b[0mtransformers\u001b[0m \u001b[0;32mimport\u001b[0m \u001b[0mpipeline\u001b[0m\u001b[0;34m\u001b[0m\u001b[0;34m\u001b[0m\u001b[0m\n\u001b[0m",
      "\u001b[0;32m~/miniconda3/envs/algos_axel/lib/python3.8/importlib/_bootstrap.py\u001b[0m in \u001b[0;36m_handle_fromlist\u001b[0;34m(module, fromlist, import_, recursive)\u001b[0m\n",
      "\u001b[0;32m~/miniconda3/envs/algos_axel/lib/python3.8/site-packages/transformers/utils/import_utils.py\u001b[0m in \u001b[0;36m__getattr__\u001b[0;34m(self, name)\u001b[0m\n\u001b[1;32m   1523\u001b[0m             \u001b[0mvalue\u001b[0m \u001b[0;34m=\u001b[0m \u001b[0mself\u001b[0m\u001b[0;34m.\u001b[0m\u001b[0m_get_module\u001b[0m\u001b[0;34m(\u001b[0m\u001b[0mname\u001b[0m\u001b[0;34m)\u001b[0m\u001b[0;34m\u001b[0m\u001b[0;34m\u001b[0m\u001b[0m\n\u001b[1;32m   1524\u001b[0m         \u001b[0;32melif\u001b[0m \u001b[0mname\u001b[0m \u001b[0;32min\u001b[0m \u001b[0mself\u001b[0m\u001b[0;34m.\u001b[0m\u001b[0m_class_to_module\u001b[0m\u001b[0;34m.\u001b[0m\u001b[0mkeys\u001b[0m\u001b[0;34m(\u001b[0m\u001b[0;34m)\u001b[0m\u001b[0;34m:\u001b[0m\u001b[0;34m\u001b[0m\u001b[0;34m\u001b[0m\u001b[0m\n\u001b[0;32m-> 1525\u001b[0;31m             \u001b[0mmodule\u001b[0m \u001b[0;34m=\u001b[0m \u001b[0mself\u001b[0m\u001b[0;34m.\u001b[0m\u001b[0m_get_module\u001b[0m\u001b[0;34m(\u001b[0m\u001b[0mself\u001b[0m\u001b[0;34m.\u001b[0m\u001b[0m_class_to_module\u001b[0m\u001b[0;34m[\u001b[0m\u001b[0mname\u001b[0m\u001b[0;34m]\u001b[0m\u001b[0;34m)\u001b[0m\u001b[0;34m\u001b[0m\u001b[0;34m\u001b[0m\u001b[0m\n\u001b[0m\u001b[1;32m   1526\u001b[0m             \u001b[0mvalue\u001b[0m \u001b[0;34m=\u001b[0m \u001b[0mgetattr\u001b[0m\u001b[0;34m(\u001b[0m\u001b[0mmodule\u001b[0m\u001b[0;34m,\u001b[0m \u001b[0mname\u001b[0m\u001b[0;34m)\u001b[0m\u001b[0;34m\u001b[0m\u001b[0;34m\u001b[0m\u001b[0m\n\u001b[1;32m   1527\u001b[0m         \u001b[0;32melse\u001b[0m\u001b[0;34m:\u001b[0m\u001b[0;34m\u001b[0m\u001b[0;34m\u001b[0m\u001b[0m\n",
      "\u001b[0;32m~/miniconda3/envs/algos_axel/lib/python3.8/site-packages/transformers/utils/import_utils.py\u001b[0m in \u001b[0;36m_get_module\u001b[0;34m(self, module_name)\u001b[0m\n\u001b[1;32m   1535\u001b[0m             \u001b[0;32mreturn\u001b[0m \u001b[0mimportlib\u001b[0m\u001b[0;34m.\u001b[0m\u001b[0mimport_module\u001b[0m\u001b[0;34m(\u001b[0m\u001b[0;34m\".\"\u001b[0m \u001b[0;34m+\u001b[0m \u001b[0mmodule_name\u001b[0m\u001b[0;34m,\u001b[0m \u001b[0mself\u001b[0m\u001b[0;34m.\u001b[0m\u001b[0m__name__\u001b[0m\u001b[0;34m)\u001b[0m\u001b[0;34m\u001b[0m\u001b[0;34m\u001b[0m\u001b[0m\n\u001b[1;32m   1536\u001b[0m         \u001b[0;32mexcept\u001b[0m \u001b[0mException\u001b[0m \u001b[0;32mas\u001b[0m \u001b[0me\u001b[0m\u001b[0;34m:\u001b[0m\u001b[0;34m\u001b[0m\u001b[0;34m\u001b[0m\u001b[0m\n\u001b[0;32m-> 1537\u001b[0;31m             raise RuntimeError(\n\u001b[0m\u001b[1;32m   1538\u001b[0m                 \u001b[0;34mf\"Failed to import {self.__name__}.{module_name} because of the following error (look up to see its\"\u001b[0m\u001b[0;34m\u001b[0m\u001b[0;34m\u001b[0m\u001b[0m\n\u001b[1;32m   1539\u001b[0m                 \u001b[0;34mf\" traceback):\\n{e}\"\u001b[0m\u001b[0;34m\u001b[0m\u001b[0;34m\u001b[0m\u001b[0m\n",
      "\u001b[0;31mRuntimeError\u001b[0m: Failed to import transformers.pipelines because of the following error (look up to see its traceback):\nNo module named 'google.protobuf'"
     ]
    }
   ],
   "source": [
    "from transformers import pipeline\n"
   ]
  },
  {
   "cell_type": "code",
   "execution_count": 2,
   "id": "c68f0710-9c2c-467b-a3dc-178b15788cc8",
   "metadata": {},
   "outputs": [
    {
     "name": "stdout",
     "output_type": "stream",
     "text": [
      "Collecting google-cloud\n",
      "  Downloading google_cloud-0.34.0-py2.py3-none-any.whl (1.8 kB)\n",
      "Installing collected packages: google-cloud\n",
      "Successfully installed google-cloud-0.34.0\n"
     ]
    }
   ],
   "source": [
    "! pip install google-cloud\n"
   ]
  },
  {
   "cell_type": "code",
   "execution_count": null,
   "id": "ac4e6a29-4e83-4eec-8adc-4dcae6f91ba1",
   "metadata": {},
   "outputs": [],
   "source": []
  }
 ],
 "metadata": {
  "kernelspec": {
   "display_name": "Python 3 (ipykernel)",
   "language": "python",
   "name": "python3"
  },
  "language_info": {
   "codemirror_mode": {
    "name": "ipython",
    "version": 3
   },
   "file_extension": ".py",
   "mimetype": "text/x-python",
   "name": "python",
   "nbconvert_exporter": "python",
   "pygments_lexer": "ipython3",
   "version": "3.8.10"
  }
 },
 "nbformat": 4,
 "nbformat_minor": 5
}
